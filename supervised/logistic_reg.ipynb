{
 "cells": [
  {
   "cell_type": "code",
   "execution_count": 1,
   "metadata": {},
   "outputs": [],
   "source": [
    "import pandas as pd"
   ]
  },
  {
   "cell_type": "code",
   "execution_count": 8,
   "metadata": {},
   "outputs": [],
   "source": [
    "col_names = ['pregnant', 'glucose', 'bp', 'skin', 'insulin', 'bmi', 'pedigree', 'age', 'label']\n",
    "pima = pd.read_csv(\"datasets_228_482_diabetes.csv\", header=None,skiprows=1, names=col_names)"
   ]
  },
  {
   "cell_type": "code",
   "execution_count": 9,
   "metadata": {
    "scrolled": true
   },
   "outputs": [
    {
     "data": {
      "text/html": [
       "<div>\n",
       "<style scoped>\n",
       "    .dataframe tbody tr th:only-of-type {\n",
       "        vertical-align: middle;\n",
       "    }\n",
       "\n",
       "    .dataframe tbody tr th {\n",
       "        vertical-align: top;\n",
       "    }\n",
       "\n",
       "    .dataframe thead th {\n",
       "        text-align: right;\n",
       "    }\n",
       "</style>\n",
       "<table border=\"1\" class=\"dataframe\">\n",
       "  <thead>\n",
       "    <tr style=\"text-align: right;\">\n",
       "      <th></th>\n",
       "      <th>pregnant</th>\n",
       "      <th>glucose</th>\n",
       "      <th>bp</th>\n",
       "      <th>skin</th>\n",
       "      <th>insulin</th>\n",
       "      <th>bmi</th>\n",
       "      <th>pedigree</th>\n",
       "      <th>age</th>\n",
       "      <th>label</th>\n",
       "    </tr>\n",
       "  </thead>\n",
       "  <tbody>\n",
       "    <tr>\n",
       "      <th>0</th>\n",
       "      <td>6</td>\n",
       "      <td>148</td>\n",
       "      <td>72</td>\n",
       "      <td>35</td>\n",
       "      <td>0</td>\n",
       "      <td>33.6</td>\n",
       "      <td>0.627</td>\n",
       "      <td>50</td>\n",
       "      <td>1</td>\n",
       "    </tr>\n",
       "    <tr>\n",
       "      <th>1</th>\n",
       "      <td>1</td>\n",
       "      <td>85</td>\n",
       "      <td>66</td>\n",
       "      <td>29</td>\n",
       "      <td>0</td>\n",
       "      <td>26.6</td>\n",
       "      <td>0.351</td>\n",
       "      <td>31</td>\n",
       "      <td>0</td>\n",
       "    </tr>\n",
       "    <tr>\n",
       "      <th>2</th>\n",
       "      <td>8</td>\n",
       "      <td>183</td>\n",
       "      <td>64</td>\n",
       "      <td>0</td>\n",
       "      <td>0</td>\n",
       "      <td>23.3</td>\n",
       "      <td>0.672</td>\n",
       "      <td>32</td>\n",
       "      <td>1</td>\n",
       "    </tr>\n",
       "    <tr>\n",
       "      <th>3</th>\n",
       "      <td>1</td>\n",
       "      <td>89</td>\n",
       "      <td>66</td>\n",
       "      <td>23</td>\n",
       "      <td>94</td>\n",
       "      <td>28.1</td>\n",
       "      <td>0.167</td>\n",
       "      <td>21</td>\n",
       "      <td>0</td>\n",
       "    </tr>\n",
       "    <tr>\n",
       "      <th>4</th>\n",
       "      <td>0</td>\n",
       "      <td>137</td>\n",
       "      <td>40</td>\n",
       "      <td>35</td>\n",
       "      <td>168</td>\n",
       "      <td>43.1</td>\n",
       "      <td>2.288</td>\n",
       "      <td>33</td>\n",
       "      <td>1</td>\n",
       "    </tr>\n",
       "  </tbody>\n",
       "</table>\n",
       "</div>"
      ],
      "text/plain": [
       "   pregnant  glucose  bp  skin  insulin   bmi  pedigree  age  label\n",
       "0         6      148  72    35        0  33.6     0.627   50      1\n",
       "1         1       85  66    29        0  26.6     0.351   31      0\n",
       "2         8      183  64     0        0  23.3     0.672   32      1\n",
       "3         1       89  66    23       94  28.1     0.167   21      0\n",
       "4         0      137  40    35      168  43.1     2.288   33      1"
      ]
     },
     "execution_count": 9,
     "metadata": {},
     "output_type": "execute_result"
    }
   ],
   "source": [
    "pima.head()"
   ]
  },
  {
   "cell_type": "code",
   "execution_count": 10,
   "metadata": {},
   "outputs": [],
   "source": [
    "feature_cols = ['pregnant', 'insulin', 'bmi', 'age','glucose','bp','pedigree']\n",
    "X = pima[feature_cols] # Features\n",
    "y = pima.label # Target variable"
   ]
  },
  {
   "cell_type": "code",
   "execution_count": 16,
   "metadata": {
    "scrolled": true
   },
   "outputs": [
    {
     "name": "stdout",
     "output_type": "stream",
     "text": [
      "<class 'pandas.core.frame.DataFrame'>\n",
      "RangeIndex: 768 entries, 0 to 767\n",
      "Data columns (total 9 columns):\n",
      " #   Column    Non-Null Count  Dtype  \n",
      "---  ------    --------------  -----  \n",
      " 0   pregnant  768 non-null    int64  \n",
      " 1   glucose   768 non-null    int64  \n",
      " 2   bp        768 non-null    int64  \n",
      " 3   skin      768 non-null    int64  \n",
      " 4   insulin   768 non-null    int64  \n",
      " 5   bmi       768 non-null    float64\n",
      " 6   pedigree  768 non-null    float64\n",
      " 7   age       768 non-null    int64  \n",
      " 8   label     768 non-null    int64  \n",
      "dtypes: float64(2), int64(7)\n",
      "memory usage: 54.1 KB\n"
     ]
    }
   ],
   "source": [
    "pima.info()"
   ]
  },
  {
   "cell_type": "code",
   "execution_count": 14,
   "metadata": {},
   "outputs": [],
   "source": [
    "from sklearn.model_selection import train_test_split\n",
    "X_train,X_test,y_train,y_test=train_test_split(X,y,test_size=0.25,random_state=0)"
   ]
  },
  {
   "cell_type": "code",
   "execution_count": 15,
   "metadata": {},
   "outputs": [],
   "source": [
    "from sklearn.linear_model import LogisticRegression\n",
    "from sklearn import metrics"
   ]
  },
  {
   "cell_type": "code",
   "execution_count": 41,
   "metadata": {},
   "outputs": [],
   "source": [
    "logreg = LogisticRegression(max_iter= 500)\n",
    "logreg.fit(X_train,y_train)\n",
    "y_pred=logreg.predict(X_test)"
   ]
  },
  {
   "cell_type": "code",
   "execution_count": 43,
   "metadata": {
    "scrolled": true
   },
   "outputs": [
    {
     "data": {
      "text/plain": [
       "array([[118,  12],\n",
       "       [ 26,  36]], dtype=int64)"
      ]
     },
     "execution_count": 43,
     "metadata": {},
     "output_type": "execute_result"
    }
   ],
   "source": [
    "cnf_matrix = metrics.confusion_matrix(y_test, y_pred)\n",
    "cnf_matrix"
   ]
  },
  {
   "cell_type": "code",
   "execution_count": 44,
   "metadata": {},
   "outputs": [
    {
     "data": {
      "text/html": [
       "<div>\n",
       "<style scoped>\n",
       "    .dataframe tbody tr th:only-of-type {\n",
       "        vertical-align: middle;\n",
       "    }\n",
       "\n",
       "    .dataframe tbody tr th {\n",
       "        vertical-align: top;\n",
       "    }\n",
       "\n",
       "    .dataframe thead th {\n",
       "        text-align: right;\n",
       "    }\n",
       "</style>\n",
       "<table border=\"1\" class=\"dataframe\">\n",
       "  <thead>\n",
       "    <tr style=\"text-align: right;\">\n",
       "      <th></th>\n",
       "      <th>0</th>\n",
       "      <th>1</th>\n",
       "    </tr>\n",
       "  </thead>\n",
       "  <tbody>\n",
       "    <tr>\n",
       "      <th>0</th>\n",
       "      <td>118</td>\n",
       "      <td>12</td>\n",
       "    </tr>\n",
       "    <tr>\n",
       "      <th>1</th>\n",
       "      <td>26</td>\n",
       "      <td>36</td>\n",
       "    </tr>\n",
       "  </tbody>\n",
       "</table>\n",
       "</div>"
      ],
      "text/plain": [
       "     0   1\n",
       "0  118  12\n",
       "1   26  36"
      ]
     },
     "execution_count": 44,
     "metadata": {},
     "output_type": "execute_result"
    }
   ],
   "source": [
    "pd.DataFrame(cnf_matrix)"
   ]
  },
  {
   "cell_type": "code",
   "execution_count": 25,
   "metadata": {},
   "outputs": [
    {
     "name": "stdout",
     "output_type": "stream",
     "text": [
      "              precision    recall  f1-score   support\n",
      "\n",
      "           0       0.82      0.91      0.86       130\n",
      "           1       0.75      0.58      0.65        62\n",
      "\n",
      "    accuracy                           0.80       192\n",
      "   macro avg       0.78      0.74      0.76       192\n",
      "weighted avg       0.80      0.80      0.79       192\n",
      "\n"
     ]
    }
   ],
   "source": [
    "print(metrics.classification_report(y_test, y_pred))"
   ]
  },
  {
   "cell_type": "code",
   "execution_count": 45,
   "metadata": {
    "scrolled": false
   },
   "outputs": [
    {
     "data": {
      "text/plain": [
       "<sklearn.metrics._plot.confusion_matrix.ConfusionMatrixDisplay at 0x1d6694f6188>"
      ]
     },
     "execution_count": 45,
     "metadata": {},
     "output_type": "execute_result"
    },
    {
     "data": {
      "image/png": "[encoded data removed]",
      "text/plain": [
       "<Figure size 432x288 with 2 Axes>"
      ]
     },
     "metadata": {
      "needs_background": "light"
     },
     "output_type": "display_data"
    }
   ],
   "source": [
    "metrics.plot_confusion_matrix(logreg,X_test,y_test)"
   ]
  },
  {
   "cell_type": "code",
   "execution_count": 29,
   "metadata": {},
   "outputs": [],
   "source": [
    "import numpy as np\n",
    "import matplotlib.pyplot as plt\n",
    "import seaborn as sns\n",
    "%matplotlib inline"
   ]
  },
  {
   "cell_type": "code",
   "execution_count": 31,
   "metadata": {},
   "outputs": [
    {
     "data": {
      "text/html": [
       "<div>\n",
       "<style scoped>\n",
       "    .dataframe tbody tr th:only-of-type {\n",
       "        vertical-align: middle;\n",
       "    }\n",
       "\n",
       "    .dataframe tbody tr th {\n",
       "        vertical-align: top;\n",
       "    }\n",
       "\n",
       "    .dataframe thead th {\n",
       "        text-align: right;\n",
       "    }\n",
       "</style>\n",
       "<table border=\"1\" class=\"dataframe\">\n",
       "  <thead>\n",
       "    <tr style=\"text-align: right;\">\n",
       "      <th></th>\n",
       "      <th>0</th>\n",
       "      <th>1</th>\n",
       "    </tr>\n",
       "  </thead>\n",
       "  <tbody>\n",
       "    <tr>\n",
       "      <th>0</th>\n",
       "      <td>118</td>\n",
       "      <td>12</td>\n",
       "    </tr>\n",
       "    <tr>\n",
       "      <th>1</th>\n",
       "      <td>26</td>\n",
       "      <td>36</td>\n",
       "    </tr>\n",
       "  </tbody>\n",
       "</table>\n",
       "</div>"
      ],
      "text/plain": [
       "     0   1\n",
       "0  118  12\n",
       "1   26  36"
      ]
     },
     "execution_count": 31,
     "metadata": {},
     "output_type": "execute_result"
    }
   ],
   "source": []
  },
  {
   "cell_type": "code",
   "execution_count": 30,
   "metadata": {},
   "outputs": [
    {
     "data": {
      "text/plain": [
       "Text(0.5, 257.44, 'Predicted label')"
      ]
     },
     "execution_count": 30,
     "metadata": {},
     "output_type": "execute_result"
    },
    {
     "data": {
      "image/png": "[encoded data removed]",
      "text/plain": [
       "<Figure size 432x288 with 2 Axes>"
      ]
     },
     "metadata": {
      "needs_background": "light"
     },
     "output_type": "display_data"
    }
   ],
   "source": [
    "class_names=[0,1] # name  of classes\n",
    "fig, ax = plt.subplots()\n",
    "tick_marks = np.arange(len(class_names))\n",
    "plt.xticks(tick_marks, class_names)\n",
    "plt.yticks(tick_marks, class_names)\n",
    "# create heatmap\n",
    "sns.heatmap(pd.DataFrame(cnf_matrix), annot=True, cmap=\"YlGnBu\" ,fmt='g')\n",
    "ax.xaxis.set_label_position(\"top\")\n",
    "plt.tight_layout()\n",
    "plt.title('Confusion matrix', y=1.1)\n",
    "plt.ylabel('Actual label')\n",
    "plt.xlabel('Predicted label')"
   ]
  },
  {
   "cell_type": "markdown",
   "metadata": {},
   "source": [
    "### ROC "
   ]
  },
  {
   "cell_type": "code",
   "execution_count": 60,
   "metadata": {
    "scrolled": true
   },
   "outputs": [
    {
     "data": {
      "image/png": "[encoded data removed]",
      "text/plain": [
       "<Figure size 432x288 with 1 Axes>"
      ]
     },
     "metadata": {
      "needs_background": "light"
     },
     "output_type": "display_data"
    }
   ],
   "source": [
    "# pick minority feature and you can do 1 to all\n",
    "y_pred_proba = logreg.predict_proba(X_test)[::,1]\n",
    "fpr, tpr, _ = metrics.roc_curve(y_test,  y_pred_proba)\n",
    "auc = metrics.roc_auc_score(y_test, y_pred_proba)\n",
    "plt.plot(fpr,tpr,label=\"data 1, auc=\"+str(auc))\n",
    "plt.legend(loc=4)\n",
    "plt.show()"
   ]
  },
  {
   "cell_type": "code",
   "execution_count": 54,
   "metadata": {},
   "outputs": [
    {
     "data": {
      "text/plain": [
       "(192, 7)"
      ]
     },
     "execution_count": 54,
     "metadata": {},
     "output_type": "execute_result"
    }
   ],
   "source": [
    "X_test.shape"
   ]
  },
  {
   "cell_type": "code",
   "execution_count": 55,
   "metadata": {
    "scrolled": false
   },
   "outputs": [
    {
     "data": {
      "text/plain": [
       "(192,)"
      ]
     },
     "execution_count": 55,
     "metadata": {},
     "output_type": "execute_result"
    }
   ],
   "source": [
    "y_test.shape"
   ]
  },
  {
   "cell_type": "code",
   "execution_count": 62,
   "metadata": {
    "scrolled": true
   },
   "outputs": [
    {
     "data": {
      "text/plain": [
       "array([0.95104786, 0.16263467, 0.0984264 , 0.63002799, 0.12185942,\n",
       "       0.03785251, 0.73379967, 0.84907632, 0.38571259, 0.38231112,\n",
       "       0.56893842, 0.96088654, 0.29025542, 0.16698294, 0.12067219,\n",
       "       0.1505483 , 0.84282587, 0.02497091, 0.40781957, 0.23890289,\n",
       "       0.64441883, 0.44462154, 0.17537931, 0.06639331, 0.05174362,\n",
       "       0.33004859, 0.04584589, 0.90537435, 0.10195056, 0.14253186,\n",
       "       0.45083676, 0.23511757, 0.10166321, 0.4301719 , 0.09304273,\n",
       "       0.70594352, 0.44026497, 0.08718967, 0.29236507, 0.71988534,\n",
       "       0.28267712, 0.23949253, 0.150872  , 0.80077235, 0.7641231 ,\n",
       "       0.00724903, 0.07631448, 0.189832  , 0.32909281, 0.31017472,\n",
       "       0.39445531, 0.17565306, 0.87427495, 0.4638662 , 0.14872369,\n",
       "       0.00263713, 0.05657334, 0.60541353, 0.27506074, 0.05149417,\n",
       "       0.73360506, 0.48980882, 0.10717433, 0.67988578, 0.68006764,\n",
       "       0.89622973, 0.72159082, 0.144336  , 0.35241197, 0.10771322,\n",
       "       0.1261549 , 0.35003711, 0.09456265, 0.95422506, 0.85288772,\n",
       "       0.32738486, 0.12689151, 0.6161361 , 0.0730885 , 0.17745132,\n",
       "       0.35353966, 0.38124305, 0.2067186 , 0.02978926, 0.18689991,\n",
       "       0.2376445 , 0.2703697 , 0.38508789, 0.87980065, 0.20064899,\n",
       "       0.149293  , 0.18437102, 0.22231775, 0.04051587, 0.62512254,\n",
       "       0.16869133, 0.42543704, 0.53898205, 0.60620516, 0.25162511,\n",
       "       0.28771199, 0.08714214, 0.24172355, 0.03563683, 0.59815096,\n",
       "       0.35450607, 0.13541533, 0.27399453, 0.04231186, 0.72967306,\n",
       "       0.09620694, 0.31237501, 0.61803265, 0.38935554, 0.57343939,\n",
       "       0.62579702, 0.11924236, 0.65820824, 0.10090335, 0.75217763,\n",
       "       0.3627109 , 0.38273773, 0.28424227, 0.44022655, 0.20260121,\n",
       "       0.04550712, 0.34340017, 0.33736066, 0.46799547, 0.36162291,\n",
       "       0.34309321, 0.0268337 , 0.05371387, 0.78378661, 0.29168467,\n",
       "       0.37428856, 0.12399045, 0.36430196, 0.60676434, 0.19133172,\n",
       "       0.08878833, 0.52450908, 0.06698924, 0.08552112, 0.34998242,\n",
       "       0.0808541 , 0.06827481, 0.08321576, 0.12258759, 0.191128  ,\n",
       "       0.07645115, 0.68047488, 0.10378706, 0.16943863, 0.76338839,\n",
       "       0.11264467, 0.77890281, 0.12759917, 0.48577031, 0.95745939,\n",
       "       0.63463804, 0.76334232, 0.01948192, 0.24520295, 0.85587517,\n",
       "       0.2903409 , 0.2047303 , 0.11637337, 0.24955366, 0.1157668 ,\n",
       "       0.10020961, 0.20131733, 0.18877499, 0.27466923, 0.53851771,\n",
       "       0.122495  , 0.41434444, 0.10456866, 0.11750641, 0.06316268,\n",
       "       0.1629436 , 0.85323469, 0.14116726, 0.93994167, 0.49618385,\n",
       "       0.02632352, 0.65477046, 0.24914011, 0.39687932, 0.1271995 ,\n",
       "       0.19240902, 0.08711841])"
      ]
     },
     "execution_count": 62,
     "metadata": {},
     "output_type": "execute_result"
    }
   ],
   "source": [
    "y_pred_proba"
   ]
  },
  {
   "cell_type": "code",
   "execution_count": 63,
   "metadata": {
    "scrolled": true
   },
   "outputs": [
    {
     "data": {
      "text/plain": [
       "array([[0.04895214, 0.95104786],\n",
       "       [0.83736533, 0.16263467],\n",
       "       [0.9015736 , 0.0984264 ],\n",
       "       [0.36997201, 0.63002799],\n",
       "       [0.87814058, 0.12185942],\n",
       "       [0.96214749, 0.03785251],\n",
       "       [0.26620033, 0.73379967],\n",
       "       [0.15092368, 0.84907632],\n",
       "       [0.61428741, 0.38571259],\n",
       "       [0.61768888, 0.38231112],\n",
       "       [0.43106158, 0.56893842],\n",
       "       [0.03911346, 0.96088654],\n",
       "       [0.70974458, 0.29025542],\n",
       "       [0.83301706, 0.16698294],\n",
       "       [0.87932781, 0.12067219],\n",
       "       [0.8494517 , 0.1505483 ],\n",
       "       [0.15717413, 0.84282587],\n",
       "       [0.97502909, 0.02497091],\n",
       "       [0.59218043, 0.40781957],\n",
       "       [0.76109711, 0.23890289],\n",
       "       [0.35558117, 0.64441883],\n",
       "       [0.55537846, 0.44462154],\n",
       "       [0.82462069, 0.17537931],\n",
       "       [0.93360669, 0.06639331],\n",
       "       [0.94825638, 0.05174362],\n",
       "       [0.66995141, 0.33004859],\n",
       "       [0.95415411, 0.04584589],\n",
       "       [0.09462565, 0.90537435],\n",
       "       [0.89804944, 0.10195056],\n",
       "       [0.85746814, 0.14253186],\n",
       "       [0.54916324, 0.45083676],\n",
       "       [0.76488243, 0.23511757],\n",
       "       [0.89833679, 0.10166321],\n",
       "       [0.5698281 , 0.4301719 ],\n",
       "       [0.90695727, 0.09304273],\n",
       "       [0.29405648, 0.70594352],\n",
       "       [0.55973503, 0.44026497],\n",
       "       [0.91281033, 0.08718967],\n",
       "       [0.70763493, 0.29236507],\n",
       "       [0.28011466, 0.71988534],\n",
       "       [0.71732288, 0.28267712],\n",
       "       [0.76050747, 0.23949253],\n",
       "       [0.849128  , 0.150872  ],\n",
       "       [0.19922765, 0.80077235],\n",
       "       [0.2358769 , 0.7641231 ],\n",
       "       [0.99275097, 0.00724903],\n",
       "       [0.92368552, 0.07631448],\n",
       "       [0.810168  , 0.189832  ],\n",
       "       [0.67090719, 0.32909281],\n",
       "       [0.68982528, 0.31017472],\n",
       "       [0.60554469, 0.39445531],\n",
       "       [0.82434694, 0.17565306],\n",
       "       [0.12572505, 0.87427495],\n",
       "       [0.5361338 , 0.4638662 ],\n",
       "       [0.85127631, 0.14872369],\n",
       "       [0.99736287, 0.00263713],\n",
       "       [0.94342666, 0.05657334],\n",
       "       [0.39458647, 0.60541353],\n",
       "       [0.72493926, 0.27506074],\n",
       "       [0.94850583, 0.05149417],\n",
       "       [0.26639494, 0.73360506],\n",
       "       [0.51019118, 0.48980882],\n",
       "       [0.89282567, 0.10717433],\n",
       "       [0.32011422, 0.67988578],\n",
       "       [0.31993236, 0.68006764],\n",
       "       [0.10377027, 0.89622973],\n",
       "       [0.27840918, 0.72159082],\n",
       "       [0.855664  , 0.144336  ],\n",
       "       [0.64758803, 0.35241197],\n",
       "       [0.89228678, 0.10771322],\n",
       "       [0.8738451 , 0.1261549 ],\n",
       "       [0.64996289, 0.35003711],\n",
       "       [0.90543735, 0.09456265],\n",
       "       [0.04577494, 0.95422506],\n",
       "       [0.14711228, 0.85288772],\n",
       "       [0.67261514, 0.32738486],\n",
       "       [0.87310849, 0.12689151],\n",
       "       [0.3838639 , 0.6161361 ],\n",
       "       [0.9269115 , 0.0730885 ],\n",
       "       [0.82254868, 0.17745132],\n",
       "       [0.64646034, 0.35353966],\n",
       "       [0.61875695, 0.38124305],\n",
       "       [0.7932814 , 0.2067186 ],\n",
       "       [0.97021074, 0.02978926],\n",
       "       [0.81310009, 0.18689991],\n",
       "       [0.7623555 , 0.2376445 ],\n",
       "       [0.7296303 , 0.2703697 ],\n",
       "       [0.61491211, 0.38508789],\n",
       "       [0.12019935, 0.87980065],\n",
       "       [0.79935101, 0.20064899],\n",
       "       [0.850707  , 0.149293  ],\n",
       "       [0.81562898, 0.18437102],\n",
       "       [0.77768225, 0.22231775],\n",
       "       [0.95948413, 0.04051587],\n",
       "       [0.37487746, 0.62512254],\n",
       "       [0.83130867, 0.16869133],\n",
       "       [0.57456296, 0.42543704],\n",
       "       [0.46101795, 0.53898205],\n",
       "       [0.39379484, 0.60620516],\n",
       "       [0.74837489, 0.25162511],\n",
       "       [0.71228801, 0.28771199],\n",
       "       [0.91285786, 0.08714214],\n",
       "       [0.75827645, 0.24172355],\n",
       "       [0.96436317, 0.03563683],\n",
       "       [0.40184904, 0.59815096],\n",
       "       [0.64549393, 0.35450607],\n",
       "       [0.86458467, 0.13541533],\n",
       "       [0.72600547, 0.27399453],\n",
       "       [0.95768814, 0.04231186],\n",
       "       [0.27032694, 0.72967306],\n",
       "       [0.90379306, 0.09620694],\n",
       "       [0.68762499, 0.31237501],\n",
       "       [0.38196735, 0.61803265],\n",
       "       [0.61064446, 0.38935554],\n",
       "       [0.42656061, 0.57343939],\n",
       "       [0.37420298, 0.62579702],\n",
       "       [0.88075764, 0.11924236],\n",
       "       [0.34179176, 0.65820824],\n",
       "       [0.89909665, 0.10090335],\n",
       "       [0.24782237, 0.75217763],\n",
       "       [0.6372891 , 0.3627109 ],\n",
       "       [0.61726227, 0.38273773],\n",
       "       [0.71575773, 0.28424227],\n",
       "       [0.55977345, 0.44022655],\n",
       "       [0.79739879, 0.20260121],\n",
       "       [0.95449288, 0.04550712],\n",
       "       [0.65659983, 0.34340017],\n",
       "       [0.66263934, 0.33736066],\n",
       "       [0.53200453, 0.46799547],\n",
       "       [0.63837709, 0.36162291],\n",
       "       [0.65690679, 0.34309321],\n",
       "       [0.9731663 , 0.0268337 ],\n",
       "       [0.94628613, 0.05371387],\n",
       "       [0.21621339, 0.78378661],\n",
       "       [0.70831533, 0.29168467],\n",
       "       [0.62571144, 0.37428856],\n",
       "       [0.87600955, 0.12399045],\n",
       "       [0.63569804, 0.36430196],\n",
       "       [0.39323566, 0.60676434],\n",
       "       [0.80866828, 0.19133172],\n",
       "       [0.91121167, 0.08878833],\n",
       "       [0.47549092, 0.52450908],\n",
       "       [0.93301076, 0.06698924],\n",
       "       [0.91447888, 0.08552112],\n",
       "       [0.65001758, 0.34998242],\n",
       "       [0.9191459 , 0.0808541 ],\n",
       "       [0.93172519, 0.06827481],\n",
       "       [0.91678424, 0.08321576],\n",
       "       [0.87741241, 0.12258759],\n",
       "       [0.808872  , 0.191128  ],\n",
       "       [0.92354885, 0.07645115],\n",
       "       [0.31952512, 0.68047488],\n",
       "       [0.89621294, 0.10378706],\n",
       "       [0.83056137, 0.16943863],\n",
       "       [0.23661161, 0.76338839],\n",
       "       [0.88735533, 0.11264467],\n",
       "       [0.22109719, 0.77890281],\n",
       "       [0.87240083, 0.12759917],\n",
       "       [0.51422969, 0.48577031],\n",
       "       [0.04254061, 0.95745939],\n",
       "       [0.36536196, 0.63463804],\n",
       "       [0.23665768, 0.76334232],\n",
       "       [0.98051808, 0.01948192],\n",
       "       [0.75479705, 0.24520295],\n",
       "       [0.14412483, 0.85587517],\n",
       "       [0.7096591 , 0.2903409 ],\n",
       "       [0.7952697 , 0.2047303 ],\n",
       "       [0.88362663, 0.11637337],\n",
       "       [0.75044634, 0.24955366],\n",
       "       [0.8842332 , 0.1157668 ],\n",
       "       [0.89979039, 0.10020961],\n",
       "       [0.79868267, 0.20131733],\n",
       "       [0.81122501, 0.18877499],\n",
       "       [0.72533077, 0.27466923],\n",
       "       [0.46148229, 0.53851771],\n",
       "       [0.877505  , 0.122495  ],\n",
       "       [0.58565556, 0.41434444],\n",
       "       [0.89543134, 0.10456866],\n",
       "       [0.88249359, 0.11750641],\n",
       "       [0.93683732, 0.06316268],\n",
       "       [0.8370564 , 0.1629436 ],\n",
       "       [0.14676531, 0.85323469],\n",
       "       [0.85883274, 0.14116726],\n",
       "       [0.06005833, 0.93994167],\n",
       "       [0.50381615, 0.49618385],\n",
       "       [0.97367648, 0.02632352],\n",
       "       [0.34522954, 0.65477046],\n",
       "       [0.75085989, 0.24914011],\n",
       "       [0.60312068, 0.39687932],\n",
       "       [0.8728005 , 0.1271995 ],\n",
       "       [0.80759098, 0.19240902],\n",
       "       [0.91288159, 0.08711841]])"
      ]
     },
     "execution_count": 63,
     "metadata": {},
     "output_type": "execute_result"
    }
   ],
   "source": [
    "logreg.predict_proba(X_test)"
   ]
  },
  {
   "cell_type": "code",
   "execution_count": 61,
   "metadata": {},
   "outputs": [],
   "source": [
    "# logreg.predict_proba(X_test)"
   ]
  }
 ],
 "metadata": {
  "kernelspec": {
   "display_name": "Python 3",
   "language": "python",
   "name": "python3"
  },
  "language_info": {
   "codemirror_mode": {
    "name": "ipython",
    "version": 3
   },
   "file_extension": ".py",
   "mimetype": "text/x-python",
   "name": "python",
   "nbconvert_exporter": "python",
   "pygments_lexer": "ipython3",
   "version": "3.7.6"
  }
 },
 "nbformat": 4,
 "nbformat_minor": 4
}
