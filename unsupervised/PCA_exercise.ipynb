{
 "cells": [
  {
   "cell_type": "markdown",
   "metadata": {},
   "source": [
    "## Dimensionality reduction\n",
    "\n",
    "We will test some of the dimensionality reduction techniques on the [UFO dataset](https://drive.google.com/file/d/0B2gZvn36c5CmRTJpS3pkUllmX1U/view?usp=sharing) from the last week."
   ]
  },
  {
   "cell_type": "markdown",
   "metadata": {},
   "source": [
    "\n",
    "\n",
    "\n",
    "### PCA\n",
    "\n",
    "Subset all **weather related** features from the data and run PCA over it. \n",
    "\n",
    "\n",
    "1. Extract the 2 best principal components (k=2). \n",
    "1. Plot the **feature** space into the new space. \n",
    "    - We should create a scatter plot with 1st component on the axis x and second component on y. \n",
    "    - The length of each component is equal to number of columns (features) we have in our data before PCA.\n",
    "    - Points in the graph that are close to each other are similar features. We need to anotate the points with feature names.\n",
    "1. Observe which features have similar meaning and which have opposite.\n",
    "    - Features close to each other have similar meaning.\n",
    "1. Select the optimal number of dimensions to keep - *k* (find the explained variance of each component and use the elbow rule)\n",
    "1. Create a projection of your data into the *k* axes of the trained PCA\n",
    "1. Export the data with the new features. Number of rows should be the same as in the original dataset."
   ]
  },
  {
   "cell_type": "code",
   "execution_count": 158,
   "metadata": {},
   "outputs": [],
   "source": [
    "import pandas as pd\n",
    "from sklearn.preprocessing import StandardScaler\n",
    "from sklearn.decomposition import PCA\n",
    "import seaborn as sns\n",
    "import numpy as np\n",
    "import ipywidgets as widgets\n",
    "from ipywidgets import interact, interact_manual\n",
    "import matplotlib.pyplot as plt\n",
    "from chart_studio.plotly import plot, iplot\n",
    "import plotly.graph_objs as go\n",
    "import matplotlib.cm as cm"
   ]
  },
  {
   "cell_type": "code",
   "execution_count": 4,
   "metadata": {},
   "outputs": [],
   "source": [
    "with open(r'C:\\Users\\user\\Jupyter_py\\lighthouse-python-fundamentals\\Databoot camp\\Week3\\data_preparation_exercise\\UFO_data.csv',) as f:\n",
    "    ufo=pd.read_csv(f,sep=';',low_memory=False, index_col=0)"
   ]
  },
  {
   "cell_type": "code",
   "execution_count": 7,
   "metadata": {},
   "outputs": [],
   "source": [
    "col=ufo.columns.to_list()"
   ]
  },
  {
   "cell_type": "code",
   "execution_count": 122,
   "metadata": {},
   "outputs": [
    {
     "data": {
      "text/plain": [
       "dict_values(['#0D76BF', '#00cc96', '#EF553B'])"
      ]
     },
     "execution_count": 122,
     "metadata": {},
     "output_type": "execute_result"
    }
   ],
   "source": [
    "colors = {'Iris-setosa': '#0D76BF', \n",
    "          'Iris-versicolor': '#00cc96', \n",
    "          'Iris-virginica': '#EF553B'}\n",
    "colors.values()"
   ]
  },
  {
   "cell_type": "code",
   "execution_count": 120,
   "metadata": {},
   "outputs": [
    {
     "data": {
      "text/html": [
       "<div>\n",
       "<style scoped>\n",
       "    .dataframe tbody tr th:only-of-type {\n",
       "        vertical-align: middle;\n",
       "    }\n",
       "\n",
       "    .dataframe tbody tr th {\n",
       "        vertical-align: top;\n",
       "    }\n",
       "\n",
       "    .dataframe thead th {\n",
       "        text-align: right;\n",
       "    }\n",
       "</style>\n",
       "<table border=\"1\" class=\"dataframe\">\n",
       "  <thead>\n",
       "    <tr style=\"text-align: right;\">\n",
       "      <th></th>\n",
       "      <th>timestamp</th>\n",
       "      <th>city</th>\n",
       "      <th>state</th>\n",
       "      <th>country</th>\n",
       "      <th>shape</th>\n",
       "      <th>duration_seconds</th>\n",
       "      <th>duration_text</th>\n",
       "      <th>notes</th>\n",
       "      <th>date_reported</th>\n",
       "      <th>lat</th>\n",
       "      <th>...</th>\n",
       "      <th>windBearing</th>\n",
       "      <th>windBearingError</th>\n",
       "      <th>windSpeed</th>\n",
       "      <th>windSpeedError</th>\n",
       "      <th>ast_absolute_magnitude_h</th>\n",
       "      <th>ast_estimated_diameter</th>\n",
       "      <th>ast_is_dangerous</th>\n",
       "      <th>ast_miss_distance</th>\n",
       "      <th>ast_orbiting_body</th>\n",
       "      <th>ast_relative_velocity</th>\n",
       "    </tr>\n",
       "  </thead>\n",
       "  <tbody>\n",
       "    <tr>\n",
       "      <th>0</th>\n",
       "      <td>1949-10-10 20:30:00</td>\n",
       "      <td>san marcos</td>\n",
       "      <td>tx</td>\n",
       "      <td>us</td>\n",
       "      <td>cylinder</td>\n",
       "      <td>2700.0</td>\n",
       "      <td>45 minutes</td>\n",
       "      <td>This event took place in early fall around 194...</td>\n",
       "      <td>2004-04-27 00:00:00</td>\n",
       "      <td>29.883056</td>\n",
       "      <td>...</td>\n",
       "      <td>154.0</td>\n",
       "      <td>NaN</td>\n",
       "      <td>4.89</td>\n",
       "      <td>NaN</td>\n",
       "      <td>21.5</td>\n",
       "      <td>0.297879</td>\n",
       "      <td>True</td>\n",
       "      <td>42621696.0</td>\n",
       "      <td>Earth</td>\n",
       "      <td>13778.372043</td>\n",
       "    </tr>\n",
       "    <tr>\n",
       "      <th>1</th>\n",
       "      <td>1949-10-10 21:00:00</td>\n",
       "      <td>lackland afb</td>\n",
       "      <td>tx</td>\n",
       "      <td>NaN</td>\n",
       "      <td>light</td>\n",
       "      <td>7200.0</td>\n",
       "      <td>1-2 hrs</td>\n",
       "      <td>1949 Lackland AFB&amp;#44 TX.  Lights racing acros...</td>\n",
       "      <td>2005-12-16 00:00:00</td>\n",
       "      <td>29.384210</td>\n",
       "      <td>...</td>\n",
       "      <td>135.0</td>\n",
       "      <td>NaN</td>\n",
       "      <td>6.60</td>\n",
       "      <td>NaN</td>\n",
       "      <td>21.5</td>\n",
       "      <td>0.297879</td>\n",
       "      <td>True</td>\n",
       "      <td>42621696.0</td>\n",
       "      <td>Earth</td>\n",
       "      <td>13778.372043</td>\n",
       "    </tr>\n",
       "    <tr>\n",
       "      <th>2</th>\n",
       "      <td>1955-10-10 17:00:00</td>\n",
       "      <td>chester (uk/england)</td>\n",
       "      <td>NaN</td>\n",
       "      <td>gb</td>\n",
       "      <td>circle</td>\n",
       "      <td>20.0</td>\n",
       "      <td>20 seconds</td>\n",
       "      <td>Green/Orange circular disc over Chester&amp;#44 En...</td>\n",
       "      <td>2008-01-21 00:00:00</td>\n",
       "      <td>53.200000</td>\n",
       "      <td>...</td>\n",
       "      <td>NaN</td>\n",
       "      <td>NaN</td>\n",
       "      <td>NaN</td>\n",
       "      <td>NaN</td>\n",
       "      <td>21.5</td>\n",
       "      <td>0.297879</td>\n",
       "      <td>True</td>\n",
       "      <td>42621696.0</td>\n",
       "      <td>Earth</td>\n",
       "      <td>13778.372043</td>\n",
       "    </tr>\n",
       "    <tr>\n",
       "      <th>3</th>\n",
       "      <td>1956-10-10 21:00:00</td>\n",
       "      <td>edna</td>\n",
       "      <td>tx</td>\n",
       "      <td>us</td>\n",
       "      <td>circle</td>\n",
       "      <td>20.0</td>\n",
       "      <td>1/2 hour</td>\n",
       "      <td>My older brother and twin sister were leaving ...</td>\n",
       "      <td>2004-01-17 00:00:00</td>\n",
       "      <td>28.978333</td>\n",
       "      <td>...</td>\n",
       "      <td>136.0</td>\n",
       "      <td>NaN</td>\n",
       "      <td>2.75</td>\n",
       "      <td>NaN</td>\n",
       "      <td>21.5</td>\n",
       "      <td>0.297879</td>\n",
       "      <td>True</td>\n",
       "      <td>42621696.0</td>\n",
       "      <td>Earth</td>\n",
       "      <td>13778.372043</td>\n",
       "    </tr>\n",
       "    <tr>\n",
       "      <th>4</th>\n",
       "      <td>1960-10-10 20:00:00</td>\n",
       "      <td>kaneohe</td>\n",
       "      <td>hi</td>\n",
       "      <td>us</td>\n",
       "      <td>light</td>\n",
       "      <td>900.0</td>\n",
       "      <td>15 minutes</td>\n",
       "      <td>AS a Marine 1st Lt. flying an FJ4B fighter/att...</td>\n",
       "      <td>2004-01-22 00:00:00</td>\n",
       "      <td>21.418056</td>\n",
       "      <td>...</td>\n",
       "      <td>80.0</td>\n",
       "      <td>NaN</td>\n",
       "      <td>3.60</td>\n",
       "      <td>NaN</td>\n",
       "      <td>21.5</td>\n",
       "      <td>0.297879</td>\n",
       "      <td>True</td>\n",
       "      <td>42621696.0</td>\n",
       "      <td>Earth</td>\n",
       "      <td>13778.372043</td>\n",
       "    </tr>\n",
       "  </tbody>\n",
       "</table>\n",
       "<p>5 rows × 41 columns</p>\n",
       "</div>"
      ],
      "text/plain": [
       "             timestamp                  city state country     shape  \\\n",
       "0  1949-10-10 20:30:00            san marcos    tx      us  cylinder   \n",
       "1  1949-10-10 21:00:00          lackland afb    tx     NaN     light   \n",
       "2  1955-10-10 17:00:00  chester (uk/england)   NaN      gb    circle   \n",
       "3  1956-10-10 21:00:00                  edna    tx      us    circle   \n",
       "4  1960-10-10 20:00:00               kaneohe    hi      us     light   \n",
       "\n",
       "   duration_seconds duration_text  \\\n",
       "0            2700.0    45 minutes   \n",
       "1            7200.0       1-2 hrs   \n",
       "2              20.0    20 seconds   \n",
       "3              20.0      1/2 hour   \n",
       "4             900.0    15 minutes   \n",
       "\n",
       "                                               notes        date_reported  \\\n",
       "0  This event took place in early fall around 194...  2004-04-27 00:00:00   \n",
       "1  1949 Lackland AFB&#44 TX.  Lights racing acros...  2005-12-16 00:00:00   \n",
       "2  Green/Orange circular disc over Chester&#44 En...  2008-01-21 00:00:00   \n",
       "3  My older brother and twin sister were leaving ...  2004-01-17 00:00:00   \n",
       "4  AS a Marine 1st Lt. flying an FJ4B fighter/att...  2004-01-22 00:00:00   \n",
       "\n",
       "         lat  ...  windBearing windBearingError  windSpeed  windSpeedError  \\\n",
       "0  29.883056  ...        154.0              NaN       4.89             NaN   \n",
       "1  29.384210  ...        135.0              NaN       6.60             NaN   \n",
       "2  53.200000  ...          NaN              NaN        NaN             NaN   \n",
       "3  28.978333  ...        136.0              NaN       2.75             NaN   \n",
       "4  21.418056  ...         80.0              NaN       3.60             NaN   \n",
       "\n",
       "   ast_absolute_magnitude_h  ast_estimated_diameter  ast_is_dangerous  \\\n",
       "0                      21.5                0.297879              True   \n",
       "1                      21.5                0.297879              True   \n",
       "2                      21.5                0.297879              True   \n",
       "3                      21.5                0.297879              True   \n",
       "4                      21.5                0.297879              True   \n",
       "\n",
       "   ast_miss_distance  ast_orbiting_body ast_relative_velocity  \n",
       "0         42621696.0              Earth          13778.372043  \n",
       "1         42621696.0              Earth          13778.372043  \n",
       "2         42621696.0              Earth          13778.372043  \n",
       "3         42621696.0              Earth          13778.372043  \n",
       "4         42621696.0              Earth          13778.372043  \n",
       "\n",
       "[5 rows x 41 columns]"
      ]
     },
     "execution_count": 120,
     "metadata": {},
     "output_type": "execute_result"
    }
   ],
   "source": [
    "ufo.head()"
   ]
  },
  {
   "cell_type": "code",
   "execution_count": 125,
   "metadata": {},
   "outputs": [
    {
     "data": {
      "text/plain": [
       "False    73975\n",
       "True      5906\n",
       "Name: ast_is_dangerous, dtype: int64"
      ]
     },
     "execution_count": 125,
     "metadata": {},
     "output_type": "execute_result"
    }
   ],
   "source": [
    "ufo.ast_is_dangerous.value_counts()"
   ]
  },
  {
   "cell_type": "code",
   "execution_count": 123,
   "metadata": {},
   "outputs": [],
   "source": [
    "col=ufo.columns.to_list()"
   ]
  },
  {
   "cell_type": "code",
   "execution_count": 35,
   "metadata": {},
   "outputs": [],
   "source": [
    "weather=ufo[col]"
   ]
  },
  {
   "cell_type": "code",
   "execution_count": 128,
   "metadata": {},
   "outputs": [
    {
     "data": {
      "application/vnd.jupyter.widget-view+json": {
       "model_id": "e4c9c5056ac34e4d968e01b9d9f2bec1",
       "version_major": 2,
       "version_minor": 0
      },
      "text/plain": [
       "interactive(children=(Dropdown(description='column', options=('timestamp', 'city', 'state', 'country', 'shape'…"
      ]
     },
     "metadata": {},
     "output_type": "display_data"
    }
   ],
   "source": [
    "@interact\n",
    "def describe(column=col):\n",
    "    print(ufo[column].describe(),ufo[column].head())"
   ]
  },
  {
   "cell_type": "code",
   "execution_count": 127,
   "metadata": {
    "scrolled": false
   },
   "outputs": [
    {
     "data": {
      "application/vnd.jupyter.widget-view+json": {
       "model_id": "ebe3325bee5b4ea7aa07d779dff307df",
       "version_major": 2,
       "version_minor": 0
      },
      "text/plain": [
       "interactive(children=(Dropdown(description='column', options=('timestamp', 'city', 'state', 'country', 'shape'…"
      ]
     },
     "metadata": {},
     "output_type": "display_data"
    }
   ],
   "source": [
    "@interact\n",
    "def describe(column=col):\n",
    "    print(ufo[column].head())"
   ]
  },
  {
   "cell_type": "code",
   "execution_count": 31,
   "metadata": {
    "scrolled": true
   },
   "outputs": [
    {
     "data": {
      "text/html": [
       "<div>\n",
       "<style scoped>\n",
       "    .dataframe tbody tr th:only-of-type {\n",
       "        vertical-align: middle;\n",
       "    }\n",
       "\n",
       "    .dataframe tbody tr th {\n",
       "        vertical-align: top;\n",
       "    }\n",
       "\n",
       "    .dataframe thead th {\n",
       "        text-align: right;\n",
       "    }\n",
       "</style>\n",
       "<table border=\"1\" class=\"dataframe\">\n",
       "  <thead>\n",
       "    <tr style=\"text-align: right;\">\n",
       "      <th></th>\n",
       "      <th>apparentTemperature</th>\n",
       "      <th>cloudCover</th>\n",
       "      <th>dewPoint</th>\n",
       "      <th>humidity</th>\n",
       "      <th>icon</th>\n",
       "      <th>precipIntensity</th>\n",
       "      <th>precipProbability</th>\n",
       "      <th>precipType</th>\n",
       "      <th>pressure</th>\n",
       "      <th>summary</th>\n",
       "      <th>temperature</th>\n",
       "      <th>time</th>\n",
       "      <th>visibility</th>\n",
       "      <th>windBearing</th>\n",
       "      <th>windSpeed</th>\n",
       "    </tr>\n",
       "  </thead>\n",
       "  <tbody>\n",
       "    <tr>\n",
       "      <th>0</th>\n",
       "      <td>25.86</td>\n",
       "      <td>0.00</td>\n",
       "      <td>20.56</td>\n",
       "      <td>0.73</td>\n",
       "      <td>clear-night</td>\n",
       "      <td>0.0</td>\n",
       "      <td>0.0</td>\n",
       "      <td>NaN</td>\n",
       "      <td>1009.05</td>\n",
       "      <td>Clear</td>\n",
       "      <td>25.86</td>\n",
       "      <td>-638227800.0</td>\n",
       "      <td>16.09</td>\n",
       "      <td>154.0</td>\n",
       "      <td>4.89</td>\n",
       "    </tr>\n",
       "    <tr>\n",
       "      <th>1</th>\n",
       "      <td>26.12</td>\n",
       "      <td>0.00</td>\n",
       "      <td>21.72</td>\n",
       "      <td>0.77</td>\n",
       "      <td>clear-night</td>\n",
       "      <td>0.0</td>\n",
       "      <td>0.0</td>\n",
       "      <td>NaN</td>\n",
       "      <td>1008.81</td>\n",
       "      <td>Clear</td>\n",
       "      <td>26.12</td>\n",
       "      <td>-638226000.0</td>\n",
       "      <td>16.09</td>\n",
       "      <td>135.0</td>\n",
       "      <td>6.60</td>\n",
       "    </tr>\n",
       "    <tr>\n",
       "      <th>2</th>\n",
       "      <td>15.56</td>\n",
       "      <td>0.75</td>\n",
       "      <td>12.86</td>\n",
       "      <td>0.84</td>\n",
       "      <td>fog</td>\n",
       "      <td>NaN</td>\n",
       "      <td>NaN</td>\n",
       "      <td>rain</td>\n",
       "      <td>1019.00</td>\n",
       "      <td>Foggy</td>\n",
       "      <td>15.56</td>\n",
       "      <td>-448959600.0</td>\n",
       "      <td>2.90</td>\n",
       "      <td>NaN</td>\n",
       "      <td>NaN</td>\n",
       "    </tr>\n",
       "    <tr>\n",
       "      <th>3</th>\n",
       "      <td>22.68</td>\n",
       "      <td>0.12</td>\n",
       "      <td>17.04</td>\n",
       "      <td>0.71</td>\n",
       "      <td>clear-night</td>\n",
       "      <td>NaN</td>\n",
       "      <td>NaN</td>\n",
       "      <td>rain</td>\n",
       "      <td>1020.64</td>\n",
       "      <td>Clear</td>\n",
       "      <td>22.68</td>\n",
       "      <td>-417304800.0</td>\n",
       "      <td>16.09</td>\n",
       "      <td>136.0</td>\n",
       "      <td>2.75</td>\n",
       "    </tr>\n",
       "    <tr>\n",
       "      <th>4</th>\n",
       "      <td>25.74</td>\n",
       "      <td>0.63</td>\n",
       "      <td>21.47</td>\n",
       "      <td>0.77</td>\n",
       "      <td>partly-cloudy-night</td>\n",
       "      <td>NaN</td>\n",
       "      <td>NaN</td>\n",
       "      <td>rain</td>\n",
       "      <td>1015.33</td>\n",
       "      <td>Mostly Cloudy</td>\n",
       "      <td>25.74</td>\n",
       "      <td>-291060000.0</td>\n",
       "      <td>16.09</td>\n",
       "      <td>80.0</td>\n",
       "      <td>3.60</td>\n",
       "    </tr>\n",
       "  </tbody>\n",
       "</table>\n",
       "</div>"
      ],
      "text/plain": [
       "   apparentTemperature  cloudCover  dewPoint  humidity                 icon  \\\n",
       "0                25.86        0.00     20.56      0.73          clear-night   \n",
       "1                26.12        0.00     21.72      0.77          clear-night   \n",
       "2                15.56        0.75     12.86      0.84                  fog   \n",
       "3                22.68        0.12     17.04      0.71          clear-night   \n",
       "4                25.74        0.63     21.47      0.77  partly-cloudy-night   \n",
       "\n",
       "   precipIntensity  precipProbability precipType  pressure        summary  \\\n",
       "0              0.0                0.0        NaN   1009.05          Clear   \n",
       "1              0.0                0.0        NaN   1008.81          Clear   \n",
       "2              NaN                NaN       rain   1019.00          Foggy   \n",
       "3              NaN                NaN       rain   1020.64          Clear   \n",
       "4              NaN                NaN       rain   1015.33  Mostly Cloudy   \n",
       "\n",
       "   temperature         time  visibility  windBearing  windSpeed  \n",
       "0        25.86 -638227800.0       16.09        154.0       4.89  \n",
       "1        26.12 -638226000.0       16.09        135.0       6.60  \n",
       "2        15.56 -448959600.0        2.90          NaN        NaN  \n",
       "3        22.68 -417304800.0       16.09        136.0       2.75  \n",
       "4        25.74 -291060000.0       16.09         80.0       3.60  "
      ]
     },
     "execution_count": 31,
     "metadata": {},
     "output_type": "execute_result"
    }
   ],
   "source": [
    "# cool=[i for i in weather.columns.to_list() if 'Error' not in i]\n",
    "# weather=weather[cool]\n",
    "weather.head()"
   ]
  },
  {
   "cell_type": "code",
   "execution_count": 45,
   "metadata": {
    "scrolled": true
   },
   "outputs": [
    {
     "data": {
      "text/html": [
       "<div>\n",
       "<style scoped>\n",
       "    .dataframe tbody tr th:only-of-type {\n",
       "        vertical-align: middle;\n",
       "    }\n",
       "\n",
       "    .dataframe tbody tr th {\n",
       "        vertical-align: top;\n",
       "    }\n",
       "\n",
       "    .dataframe thead th {\n",
       "        text-align: right;\n",
       "    }\n",
       "</style>\n",
       "<table border=\"1\" class=\"dataframe\">\n",
       "  <thead>\n",
       "    <tr style=\"text-align: right;\">\n",
       "      <th></th>\n",
       "      <th>Total</th>\n",
       "      <th>Percent</th>\n",
       "    </tr>\n",
       "  </thead>\n",
       "  <tbody>\n",
       "    <tr>\n",
       "      <th>pressureError</th>\n",
       "      <td>80303</td>\n",
       "      <td>0.999639</td>\n",
       "    </tr>\n",
       "    <tr>\n",
       "      <th>cloudCoverError</th>\n",
       "      <td>80302</td>\n",
       "      <td>0.999627</td>\n",
       "    </tr>\n",
       "    <tr>\n",
       "      <th>visibilityError</th>\n",
       "      <td>80302</td>\n",
       "      <td>0.999627</td>\n",
       "    </tr>\n",
       "    <tr>\n",
       "      <th>dewPointError</th>\n",
       "      <td>80297</td>\n",
       "      <td>0.999564</td>\n",
       "    </tr>\n",
       "    <tr>\n",
       "      <th>humidityError</th>\n",
       "      <td>80297</td>\n",
       "      <td>0.999564</td>\n",
       "    </tr>\n",
       "    <tr>\n",
       "      <th>windSpeedError</th>\n",
       "      <td>80296</td>\n",
       "      <td>0.999552</td>\n",
       "    </tr>\n",
       "    <tr>\n",
       "      <th>windBearingError</th>\n",
       "      <td>80296</td>\n",
       "      <td>0.999552</td>\n",
       "    </tr>\n",
       "    <tr>\n",
       "      <th>temperatureError</th>\n",
       "      <td>80296</td>\n",
       "      <td>0.999552</td>\n",
       "    </tr>\n",
       "    <tr>\n",
       "      <th>precipType</th>\n",
       "      <td>66599</td>\n",
       "      <td>0.829047</td>\n",
       "    </tr>\n",
       "    <tr>\n",
       "      <th>precipIntensity</th>\n",
       "      <td>24498</td>\n",
       "      <td>0.304959</td>\n",
       "    </tr>\n",
       "    <tr>\n",
       "      <th>precipProbability</th>\n",
       "      <td>24498</td>\n",
       "      <td>0.304959</td>\n",
       "    </tr>\n",
       "    <tr>\n",
       "      <th>pressure</th>\n",
       "      <td>16571</td>\n",
       "      <td>0.206281</td>\n",
       "    </tr>\n",
       "    <tr>\n",
       "      <th>cloudCover</th>\n",
       "      <td>16530</td>\n",
       "      <td>0.205771</td>\n",
       "    </tr>\n",
       "    <tr>\n",
       "      <th>windBearing</th>\n",
       "      <td>16039</td>\n",
       "      <td>0.199659</td>\n",
       "    </tr>\n",
       "    <tr>\n",
       "      <th>windSpeed</th>\n",
       "      <td>15982</td>\n",
       "      <td>0.198949</td>\n",
       "    </tr>\n",
       "    <tr>\n",
       "      <th>visibility</th>\n",
       "      <td>15739</td>\n",
       "      <td>0.195924</td>\n",
       "    </tr>\n",
       "    <tr>\n",
       "      <th>humidity</th>\n",
       "      <td>15624</td>\n",
       "      <td>0.194493</td>\n",
       "    </tr>\n",
       "    <tr>\n",
       "      <th>dewPoint</th>\n",
       "      <td>15624</td>\n",
       "      <td>0.194493</td>\n",
       "    </tr>\n",
       "    <tr>\n",
       "      <th>temperature</th>\n",
       "      <td>15589</td>\n",
       "      <td>0.194057</td>\n",
       "    </tr>\n",
       "    <tr>\n",
       "      <th>apparentTemperature</th>\n",
       "      <td>15589</td>\n",
       "      <td>0.194057</td>\n",
       "    </tr>\n",
       "    <tr>\n",
       "      <th>summary</th>\n",
       "      <td>15573</td>\n",
       "      <td>0.193858</td>\n",
       "    </tr>\n",
       "    <tr>\n",
       "      <th>icon</th>\n",
       "      <td>15573</td>\n",
       "      <td>0.193858</td>\n",
       "    </tr>\n",
       "    <tr>\n",
       "      <th>time</th>\n",
       "      <td>15400</td>\n",
       "      <td>0.191704</td>\n",
       "    </tr>\n",
       "  </tbody>\n",
       "</table>\n",
       "</div>"
      ],
      "text/plain": [
       "                     Total   Percent\n",
       "pressureError        80303  0.999639\n",
       "cloudCoverError      80302  0.999627\n",
       "visibilityError      80302  0.999627\n",
       "dewPointError        80297  0.999564\n",
       "humidityError        80297  0.999564\n",
       "windSpeedError       80296  0.999552\n",
       "windBearingError     80296  0.999552\n",
       "temperatureError     80296  0.999552\n",
       "precipType           66599  0.829047\n",
       "precipIntensity      24498  0.304959\n",
       "precipProbability    24498  0.304959\n",
       "pressure             16571  0.206281\n",
       "cloudCover           16530  0.205771\n",
       "windBearing          16039  0.199659\n",
       "windSpeed            15982  0.198949\n",
       "visibility           15739  0.195924\n",
       "humidity             15624  0.194493\n",
       "dewPoint             15624  0.194493\n",
       "temperature          15589  0.194057\n",
       "apparentTemperature  15589  0.194057\n",
       "summary              15573  0.193858\n",
       "icon                 15573  0.193858\n",
       "time                 15400  0.191704"
      ]
     },
     "execution_count": 45,
     "metadata": {},
     "output_type": "execute_result"
    }
   ],
   "source": [
    "total=weather.isnull().sum().sort_values(ascending=False)\n",
    "percent = (weather.isnull().sum()/weather.isnull().count()).sort_values(ascending=False)\n",
    "# df_train.drop(df_train[(df_train['TotalBsmtSF']>5000) & (df_train['SalePrice']<300000)].index)\n",
    "# weather.isnull().sum()\n",
    "missing_data = pd.concat([total, percent], axis=1, keys=['Total', 'Percent'])\n",
    "missing_data"
   ]
  },
  {
   "cell_type": "code",
   "execution_count": 47,
   "metadata": {},
   "outputs": [],
   "source": [
    "col_new=missing_data[missing_data.Percent< 0.8].index.to_list()"
   ]
  },
  {
   "cell_type": "code",
   "execution_count": 52,
   "metadata": {
    "scrolled": true
   },
   "outputs": [
    {
     "data": {
      "text/html": [
       "<div>\n",
       "<style scoped>\n",
       "    .dataframe tbody tr th:only-of-type {\n",
       "        vertical-align: middle;\n",
       "    }\n",
       "\n",
       "    .dataframe tbody tr th {\n",
       "        vertical-align: top;\n",
       "    }\n",
       "\n",
       "    .dataframe thead th {\n",
       "        text-align: right;\n",
       "    }\n",
       "</style>\n",
       "<table border=\"1\" class=\"dataframe\">\n",
       "  <thead>\n",
       "    <tr style=\"text-align: right;\">\n",
       "      <th></th>\n",
       "      <th>precipIntensity</th>\n",
       "      <th>precipProbability</th>\n",
       "      <th>pressure</th>\n",
       "      <th>cloudCover</th>\n",
       "      <th>windBearing</th>\n",
       "      <th>windSpeed</th>\n",
       "      <th>visibility</th>\n",
       "      <th>humidity</th>\n",
       "      <th>dewPoint</th>\n",
       "      <th>temperature</th>\n",
       "      <th>apparentTemperature</th>\n",
       "    </tr>\n",
       "  </thead>\n",
       "  <tbody>\n",
       "    <tr>\n",
       "      <th>0</th>\n",
       "      <td>0.0</td>\n",
       "      <td>0.0</td>\n",
       "      <td>1009.05</td>\n",
       "      <td>0.00</td>\n",
       "      <td>154.0</td>\n",
       "      <td>4.89</td>\n",
       "      <td>16.09</td>\n",
       "      <td>0.73</td>\n",
       "      <td>20.56</td>\n",
       "      <td>25.86</td>\n",
       "      <td>25.86</td>\n",
       "    </tr>\n",
       "    <tr>\n",
       "      <th>1</th>\n",
       "      <td>0.0</td>\n",
       "      <td>0.0</td>\n",
       "      <td>1008.81</td>\n",
       "      <td>0.00</td>\n",
       "      <td>135.0</td>\n",
       "      <td>6.60</td>\n",
       "      <td>16.09</td>\n",
       "      <td>0.77</td>\n",
       "      <td>21.72</td>\n",
       "      <td>26.12</td>\n",
       "      <td>26.12</td>\n",
       "    </tr>\n",
       "    <tr>\n",
       "      <th>10</th>\n",
       "      <td>0.0</td>\n",
       "      <td>0.0</td>\n",
       "      <td>1014.10</td>\n",
       "      <td>1.00</td>\n",
       "      <td>300.0</td>\n",
       "      <td>2.24</td>\n",
       "      <td>6.44</td>\n",
       "      <td>0.68</td>\n",
       "      <td>13.91</td>\n",
       "      <td>20.00</td>\n",
       "      <td>20.00</td>\n",
       "    </tr>\n",
       "    <tr>\n",
       "      <th>11</th>\n",
       "      <td>0.0</td>\n",
       "      <td>0.0</td>\n",
       "      <td>1021.43</td>\n",
       "      <td>0.96</td>\n",
       "      <td>345.0</td>\n",
       "      <td>1.40</td>\n",
       "      <td>11.80</td>\n",
       "      <td>0.83</td>\n",
       "      <td>14.55</td>\n",
       "      <td>17.42</td>\n",
       "      <td>17.42</td>\n",
       "    </tr>\n",
       "    <tr>\n",
       "      <th>12</th>\n",
       "      <td>0.0</td>\n",
       "      <td>0.0</td>\n",
       "      <td>1024.59</td>\n",
       "      <td>0.52</td>\n",
       "      <td>132.0</td>\n",
       "      <td>2.67</td>\n",
       "      <td>11.09</td>\n",
       "      <td>0.64</td>\n",
       "      <td>13.37</td>\n",
       "      <td>20.37</td>\n",
       "      <td>20.37</td>\n",
       "    </tr>\n",
       "  </tbody>\n",
       "</table>\n",
       "</div>"
      ],
      "text/plain": [
       "    precipIntensity  precipProbability  pressure  cloudCover  windBearing  \\\n",
       "0               0.0                0.0   1009.05        0.00        154.0   \n",
       "1               0.0                0.0   1008.81        0.00        135.0   \n",
       "10              0.0                0.0   1014.10        1.00        300.0   \n",
       "11              0.0                0.0   1021.43        0.96        345.0   \n",
       "12              0.0                0.0   1024.59        0.52        132.0   \n",
       "\n",
       "    windSpeed  visibility  humidity  dewPoint  temperature  \\\n",
       "0        4.89       16.09      0.73     20.56        25.86   \n",
       "1        6.60       16.09      0.77     21.72        26.12   \n",
       "10       2.24        6.44      0.68     13.91        20.00   \n",
       "11       1.40       11.80      0.83     14.55        17.42   \n",
       "12       2.67       11.09      0.64     13.37        20.37   \n",
       "\n",
       "    apparentTemperature  \n",
       "0                 25.86  \n",
       "1                 26.12  \n",
       "10                20.00  \n",
       "11                17.42  \n",
       "12                20.37  "
      ]
     },
     "execution_count": 52,
     "metadata": {},
     "output_type": "execute_result"
    }
   ],
   "source": [
    "weather=weather[col_new]\n",
    "weather=weather.dropna()\n",
    "weather=weather.drop(columns=['summary','icon','time'],)\n",
    "weather.head()"
   ]
  },
  {
   "cell_type": "code",
   "execution_count": 58,
   "metadata": {},
   "outputs": [
    {
     "data": {
      "text/plain": [
       "precipIntensity        0\n",
       "precipProbability      0\n",
       "pressure               0\n",
       "cloudCover             0\n",
       "windBearing            0\n",
       "windSpeed              0\n",
       "visibility             0\n",
       "humidity               0\n",
       "dewPoint               0\n",
       "temperature            0\n",
       "apparentTemperature    0\n",
       "dtype: int64"
      ]
     },
     "execution_count": 58,
     "metadata": {},
     "output_type": "execute_result"
    }
   ],
   "source": [
    "weather.isnull().sum()\n",
    "weather.info()"
   ]
  },
  {
   "cell_type": "code",
   "execution_count": 62,
   "metadata": {
    "scrolled": true
   },
   "outputs": [
    {
     "data": {
      "text/html": [
       "<div>\n",
       "<style scoped>\n",
       "    .dataframe tbody tr th:only-of-type {\n",
       "        vertical-align: middle;\n",
       "    }\n",
       "\n",
       "    .dataframe tbody tr th {\n",
       "        vertical-align: top;\n",
       "    }\n",
       "\n",
       "    .dataframe thead th {\n",
       "        text-align: right;\n",
       "    }\n",
       "</style>\n",
       "<table border=\"1\" class=\"dataframe\">\n",
       "  <thead>\n",
       "    <tr style=\"text-align: right;\">\n",
       "      <th></th>\n",
       "      <th>precipIntensity</th>\n",
       "      <th>precipProbability</th>\n",
       "      <th>pressure</th>\n",
       "      <th>cloudCover</th>\n",
       "      <th>windBearing</th>\n",
       "      <th>windSpeed</th>\n",
       "      <th>visibility</th>\n",
       "      <th>humidity</th>\n",
       "      <th>dewPoint</th>\n",
       "      <th>temperature</th>\n",
       "      <th>apparentTemperature</th>\n",
       "    </tr>\n",
       "  </thead>\n",
       "  <tbody>\n",
       "    <tr>\n",
       "      <th>0</th>\n",
       "      <td>-0.106411</td>\n",
       "      <td>-0.238028</td>\n",
       "      <td>-1.153895</td>\n",
       "      <td>-0.866673</td>\n",
       "      <td>-0.405290</td>\n",
       "      <td>1.151352</td>\n",
       "      <td>0.512129</td>\n",
       "      <td>0.399423</td>\n",
       "      <td>1.457507</td>\n",
       "      <td>1.230152</td>\n",
       "      <td>1.151412</td>\n",
       "    </tr>\n",
       "    <tr>\n",
       "      <th>1</th>\n",
       "      <td>-0.106411</td>\n",
       "      <td>-0.238028</td>\n",
       "      <td>-1.188933</td>\n",
       "      <td>-0.866673</td>\n",
       "      <td>-0.596485</td>\n",
       "      <td>2.148531</td>\n",
       "      <td>0.512129</td>\n",
       "      <td>0.599742</td>\n",
       "      <td>1.575111</td>\n",
       "      <td>1.256200</td>\n",
       "      <td>1.174236</td>\n",
       "    </tr>\n",
       "    <tr>\n",
       "      <th>2</th>\n",
       "      <td>-0.106411</td>\n",
       "      <td>-0.238028</td>\n",
       "      <td>-0.416626</td>\n",
       "      <td>2.213403</td>\n",
       "      <td>1.063888</td>\n",
       "      <td>-0.393983</td>\n",
       "      <td>-3.503053</td>\n",
       "      <td>0.149025</td>\n",
       "      <td>0.783311</td>\n",
       "      <td>0.643086</td>\n",
       "      <td>0.636977</td>\n",
       "    </tr>\n",
       "    <tr>\n",
       "      <th>3</th>\n",
       "      <td>-0.106411</td>\n",
       "      <td>-0.238028</td>\n",
       "      <td>0.653509</td>\n",
       "      <td>2.090200</td>\n",
       "      <td>1.516717</td>\n",
       "      <td>-0.883825</td>\n",
       "      <td>-1.272859</td>\n",
       "      <td>0.900219</td>\n",
       "      <td>0.848196</td>\n",
       "      <td>0.384616</td>\n",
       "      <td>0.410485</td>\n",
       "    </tr>\n",
       "    <tr>\n",
       "      <th>4</th>\n",
       "      <td>-0.106411</td>\n",
       "      <td>-0.238028</td>\n",
       "      <td>1.114849</td>\n",
       "      <td>0.734967</td>\n",
       "      <td>-0.626673</td>\n",
       "      <td>-0.143230</td>\n",
       "      <td>-1.568276</td>\n",
       "      <td>-0.051293</td>\n",
       "      <td>0.728564</td>\n",
       "      <td>0.680153</td>\n",
       "      <td>0.669458</td>\n",
       "    </tr>\n",
       "  </tbody>\n",
       "</table>\n",
       "</div>"
      ],
      "text/plain": [
       "   precipIntensity  precipProbability  pressure  cloudCover  windBearing  \\\n",
       "0        -0.106411          -0.238028 -1.153895   -0.866673    -0.405290   \n",
       "1        -0.106411          -0.238028 -1.188933   -0.866673    -0.596485   \n",
       "2        -0.106411          -0.238028 -0.416626    2.213403     1.063888   \n",
       "3        -0.106411          -0.238028  0.653509    2.090200     1.516717   \n",
       "4        -0.106411          -0.238028  1.114849    0.734967    -0.626673   \n",
       "\n",
       "   windSpeed  visibility  humidity  dewPoint  temperature  apparentTemperature  \n",
       "0   1.151352    0.512129  0.399423  1.457507     1.230152             1.151412  \n",
       "1   2.148531    0.512129  0.599742  1.575111     1.256200             1.174236  \n",
       "2  -0.393983   -3.503053  0.149025  0.783311     0.643086             0.636977  \n",
       "3  -0.883825   -1.272859  0.900219  0.848196     0.384616             0.410485  \n",
       "4  -0.143230   -1.568276 -0.051293  0.728564     0.680153             0.669458  "
      ]
     },
     "execution_count": 62,
     "metadata": {},
     "output_type": "execute_result"
    }
   ],
   "source": [
    "X = StandardScaler().fit_transform(weather) # scaling\n",
    "weather_std = pd.DataFrame(X, columns = weather.columns)\n",
    "weather_std.head()"
   ]
  },
  {
   "cell_type": "code",
   "execution_count": 106,
   "metadata": {},
   "outputs": [
    {
     "data": {
      "text/plain": [
       "array([2.99420587, 2.28141482, 1.44461308, 1.09745791, 0.92806086,\n",
       "       0.40170142, 0.01416684, 0.00480718, 0.6720404 , 0.56659871,\n",
       "       0.5951327 ])"
      ]
     },
     "execution_count": 106,
     "metadata": {},
     "output_type": "execute_result"
    }
   ],
   "source": [
    "cov_mat = np.cov(X.T)\n",
    "eig_vals, eig_vecs = np.linalg.eig(cov_mat)\n",
    "eig_vals"
   ]
  },
  {
   "cell_type": "code",
   "execution_count": 105,
   "metadata": {
    "scrolled": true
   },
   "outputs": [
    {
     "name": "stdout",
     "output_type": "stream",
     "text": [
      "Eigenvalues in descending order:\n",
      "2.9942058667011127\n",
      "2.281414819676119\n",
      "1.4446130764791274\n",
      "1.0974579112883103\n",
      "0.9280608586474011\n",
      "0.6720404013155106\n",
      "0.5951327028260346\n",
      "0.5665987131574662\n",
      "0.40170141751534943\n",
      "0.014166843084096421\n",
      "0.004807178622560757\n"
     ]
    }
   ],
   "source": [
    "eig_pairs = [(np.abs(eig_vals[i]), eig_vecs[:,i]) for i in range(len(eig_vals))]\n",
    "eig_pairs.sort()\n",
    "eig_pairs.reverse()\n",
    "print('Eigenvalues in descending order:')\n",
    "for i in eig_pairs:\n",
    "    print(i[0])"
   ]
  },
  {
   "cell_type": "code",
   "execution_count": 119,
   "metadata": {},
   "outputs": [
    {
     "data": {
      "application/vnd.plotly.v1+json": {
       "config": {
        "plotlyServerURL": "https://plot.ly"
       },
       "data": [
        {
         "name": "Individual",
         "type": "bar",
         "x": [
          "PC 1",
          "PC 2",
          "PC 3",
          "PC 4",
          "PC 5",
          "PC 6",
          "PC 7",
          "PC 8",
          "PC 9",
          "PC 10",
          "PC 11"
         ],
         "y": [
          27.21955895392048,
          20.739758035054585,
          13.132607626659631,
          9.976708899001203,
          8.436763662683934,
          6.109347231751292,
          5.4101990347867845,
          5.15080384001687,
          3.6517647425423156,
          0.12878714346497405,
          0.04370083011793137
         ]
        },
        {
         "mode": "lines+markers",
         "name": "Cumulative",
         "type": "scatter",
         "x": [
          "PC 1",
          "PC 2",
          "PC 3",
          "PC 4",
          "PC 5",
          "PC 6",
          "PC 7",
          "PC 8",
          "PC 9",
          "PC 10",
          "PC 11"
         ],
         "y": [
          27.21955895392048,
          47.95931698897506,
          61.091924615634696,
          71.0686335146359,
          79.50539717731984,
          85.61474440907112,
          91.02494344385791,
          96.17574728387478,
          99.8275120264171,
          99.95629916988207,
          100
         ]
        }
       ],
       "layout": {
        "template": {
         "data": {
          "bar": [
           {
            "error_x": {
             "color": "#2a3f5f"
            },
            "error_y": {
             "color": "#2a3f5f"
            },
            "marker": {
             "line": {
              "color": "#E5ECF6",
              "width": 0.5
             }
            },
            "type": "bar"
           }
          ],
          "barpolar": [
           {
            "marker": {
             "line": {
              "color": "#E5ECF6",
              "width": 0.5
             }
            },
            "type": "barpolar"
           }
          ],
          "carpet": [
           {
            "aaxis": {
             "endlinecolor": "#2a3f5f",
             "gridcolor": "white",
             "linecolor": "white",
             "minorgridcolor": "white",
             "startlinecolor": "#2a3f5f"
            },
            "baxis": {
             "endlinecolor": "#2a3f5f",
             "gridcolor": "white",
             "linecolor": "white",
             "minorgridcolor": "white",
             "startlinecolor": "#2a3f5f"
            },
            "type": "carpet"
           }
          ],
          "choropleth": [
           {
            "colorbar": {
             "outlinewidth": 0,
             "ticks": ""
            },
            "type": "choropleth"
           }
          ],
          "contour": [
           {
            "colorbar": {
             "outlinewidth": 0,
             "ticks": ""
            },
            "colorscale": [
             [
              0,
              "#0d0887"
             ],
             [
              0.1111111111111111,
              "#46039f"
             ],
             [
              0.2222222222222222,
              "#7201a8"
             ],
             [
              0.3333333333333333,
              "#9c179e"
             ],
             [
              0.4444444444444444,
              "#bd3786"
             ],
             [
              0.5555555555555556,
              "#d8576b"
             ],
             [
              0.6666666666666666,
              "#ed7953"
             ],
             [
              0.7777777777777778,
              "#fb9f3a"
             ],
             [
              0.8888888888888888,
              "#fdca26"
             ],
             [
              1,
              "#f0f921"
             ]
            ],
            "type": "contour"
           }
          ],
          "contourcarpet": [
           {
            "colorbar": {
             "outlinewidth": 0,
             "ticks": ""
            },
            "type": "contourcarpet"
           }
          ],
          "heatmap": [
           {
            "colorbar": {
             "outlinewidth": 0,
             "ticks": ""
            },
            "colorscale": [
             [
              0,
              "#0d0887"
             ],
             [
              0.1111111111111111,
              "#46039f"
             ],
             [
              0.2222222222222222,
              "#7201a8"
             ],
             [
              0.3333333333333333,
              "#9c179e"
             ],
             [
              0.4444444444444444,
              "#bd3786"
             ],
             [
              0.5555555555555556,
              "#d8576b"
             ],
             [
              0.6666666666666666,
              "#ed7953"
             ],
             [
              0.7777777777777778,
              "#fb9f3a"
             ],
             [
              0.8888888888888888,
              "#fdca26"
             ],
             [
              1,
              "#f0f921"
             ]
            ],
            "type": "heatmap"
           }
          ],
          "heatmapgl": [
           {
            "colorbar": {
             "outlinewidth": 0,
             "ticks": ""
            },
            "colorscale": [
             [
              0,
              "#0d0887"
             ],
             [
              0.1111111111111111,
              "#46039f"
             ],
             [
              0.2222222222222222,
              "#7201a8"
             ],
             [
              0.3333333333333333,
              "#9c179e"
             ],
             [
              0.4444444444444444,
              "#bd3786"
             ],
             [
              0.5555555555555556,
              "#d8576b"
             ],
             [
              0.6666666666666666,
              "#ed7953"
             ],
             [
              0.7777777777777778,
              "#fb9f3a"
             ],
             [
              0.8888888888888888,
              "#fdca26"
             ],
             [
              1,
              "#f0f921"
             ]
            ],
            "type": "heatmapgl"
           }
          ],
          "histogram": [
           {
            "marker": {
             "colorbar": {
              "outlinewidth": 0,
              "ticks": ""
             }
            },
            "type": "histogram"
           }
          ],
          "histogram2d": [
           {
            "colorbar": {
             "outlinewidth": 0,
             "ticks": ""
            },
            "colorscale": [
             [
              0,
              "#0d0887"
             ],
             [
              0.1111111111111111,
              "#46039f"
             ],
             [
              0.2222222222222222,
              "#7201a8"
             ],
             [
              0.3333333333333333,
              "#9c179e"
             ],
             [
              0.4444444444444444,
              "#bd3786"
             ],
             [
              0.5555555555555556,
              "#d8576b"
             ],
             [
              0.6666666666666666,
              "#ed7953"
             ],
             [
              0.7777777777777778,
              "#fb9f3a"
             ],
             [
              0.8888888888888888,
              "#fdca26"
             ],
             [
              1,
              "#f0f921"
             ]
            ],
            "type": "histogram2d"
           }
          ],
          "histogram2dcontour": [
           {
            "colorbar": {
             "outlinewidth": 0,
             "ticks": ""
            },
            "colorscale": [
             [
              0,
              "#0d0887"
             ],
             [
              0.1111111111111111,
              "#46039f"
             ],
             [
              0.2222222222222222,
              "#7201a8"
             ],
             [
              0.3333333333333333,
              "#9c179e"
             ],
             [
              0.4444444444444444,
              "#bd3786"
             ],
             [
              0.5555555555555556,
              "#d8576b"
             ],
             [
              0.6666666666666666,
              "#ed7953"
             ],
             [
              0.7777777777777778,
              "#fb9f3a"
             ],
             [
              0.8888888888888888,
              "#fdca26"
             ],
             [
              1,
              "#f0f921"
             ]
            ],
            "type": "histogram2dcontour"
           }
          ],
          "mesh3d": [
           {
            "colorbar": {
             "outlinewidth": 0,
             "ticks": ""
            },
            "type": "mesh3d"
           }
          ],
          "parcoords": [
           {
            "line": {
             "colorbar": {
              "outlinewidth": 0,
              "ticks": ""
             }
            },
            "type": "parcoords"
           }
          ],
          "pie": [
           {
            "automargin": true,
            "type": "pie"
           }
          ],
          "scatter": [
           {
            "marker": {
             "colorbar": {
              "outlinewidth": 0,
              "ticks": ""
             }
            },
            "type": "scatter"
           }
          ],
          "scatter3d": [
           {
            "line": {
             "colorbar": {
              "outlinewidth": 0,
              "ticks": ""
             }
            },
            "marker": {
             "colorbar": {
              "outlinewidth": 0,
              "ticks": ""
             }
            },
            "type": "scatter3d"
           }
          ],
          "scattercarpet": [
           {
            "marker": {
             "colorbar": {
              "outlinewidth": 0,
              "ticks": ""
             }
            },
            "type": "scattercarpet"
           }
          ],
          "scattergeo": [
           {
            "marker": {
             "colorbar": {
              "outlinewidth": 0,
              "ticks": ""
             }
            },
            "type": "scattergeo"
           }
          ],
          "scattergl": [
           {
            "marker": {
             "colorbar": {
              "outlinewidth": 0,
              "ticks": ""
             }
            },
            "type": "scattergl"
           }
          ],
          "scattermapbox": [
           {
            "marker": {
             "colorbar": {
              "outlinewidth": 0,
              "ticks": ""
             }
            },
            "type": "scattermapbox"
           }
          ],
          "scatterpolar": [
           {
            "marker": {
             "colorbar": {
              "outlinewidth": 0,
              "ticks": ""
             }
            },
            "type": "scatterpolar"
           }
          ],
          "scatterpolargl": [
           {
            "marker": {
             "colorbar": {
              "outlinewidth": 0,
              "ticks": ""
             }
            },
            "type": "scatterpolargl"
           }
          ],
          "scatterternary": [
           {
            "marker": {
             "colorbar": {
              "outlinewidth": 0,
              "ticks": ""
             }
            },
            "type": "scatterternary"
           }
          ],
          "surface": [
           {
            "colorbar": {
             "outlinewidth": 0,
             "ticks": ""
            },
            "colorscale": [
             [
              0,
              "#0d0887"
             ],
             [
              0.1111111111111111,
              "#46039f"
             ],
             [
              0.2222222222222222,
              "#7201a8"
             ],
             [
              0.3333333333333333,
              "#9c179e"
             ],
             [
              0.4444444444444444,
              "#bd3786"
             ],
             [
              0.5555555555555556,
              "#d8576b"
             ],
             [
              0.6666666666666666,
              "#ed7953"
             ],
             [
              0.7777777777777778,
              "#fb9f3a"
             ],
             [
              0.8888888888888888,
              "#fdca26"
             ],
             [
              1,
              "#f0f921"
             ]
            ],
            "type": "surface"
           }
          ],
          "table": [
           {
            "cells": {
             "fill": {
              "color": "#EBF0F8"
             },
             "line": {
              "color": "white"
             }
            },
            "header": {
             "fill": {
              "color": "#C8D4E3"
             },
             "line": {
              "color": "white"
             }
            },
            "type": "table"
           }
          ]
         },
         "layout": {
          "annotationdefaults": {
           "arrowcolor": "#2a3f5f",
           "arrowhead": 0,
           "arrowwidth": 1
          },
          "coloraxis": {
           "colorbar": {
            "outlinewidth": 0,
            "ticks": ""
           }
          },
          "colorscale": {
           "diverging": [
            [
             0,
             "#8e0152"
            ],
            [
             0.1,
             "#c51b7d"
            ],
            [
             0.2,
             "#de77ae"
            ],
            [
             0.3,
             "#f1b6da"
            ],
            [
             0.4,
             "#fde0ef"
            ],
            [
             0.5,
             "#f7f7f7"
            ],
            [
             0.6,
             "#e6f5d0"
            ],
            [
             0.7,
             "#b8e186"
            ],
            [
             0.8,
             "#7fbc41"
            ],
            [
             0.9,
             "#4d9221"
            ],
            [
             1,
             "#276419"
            ]
           ],
           "sequential": [
            [
             0,
             "#0d0887"
            ],
            [
             0.1111111111111111,
             "#46039f"
            ],
            [
             0.2222222222222222,
             "#7201a8"
            ],
            [
             0.3333333333333333,
             "#9c179e"
            ],
            [
             0.4444444444444444,
             "#bd3786"
            ],
            [
             0.5555555555555556,
             "#d8576b"
            ],
            [
             0.6666666666666666,
             "#ed7953"
            ],
            [
             0.7777777777777778,
             "#fb9f3a"
            ],
            [
             0.8888888888888888,
             "#fdca26"
            ],
            [
             1,
             "#f0f921"
            ]
           ],
           "sequentialminus": [
            [
             0,
             "#0d0887"
            ],
            [
             0.1111111111111111,
             "#46039f"
            ],
            [
             0.2222222222222222,
             "#7201a8"
            ],
            [
             0.3333333333333333,
             "#9c179e"
            ],
            [
             0.4444444444444444,
             "#bd3786"
            ],
            [
             0.5555555555555556,
             "#d8576b"
            ],
            [
             0.6666666666666666,
             "#ed7953"
            ],
            [
             0.7777777777777778,
             "#fb9f3a"
            ],
            [
             0.8888888888888888,
             "#fdca26"
            ],
            [
             1,
             "#f0f921"
            ]
           ]
          },
          "colorway": [
           "#636efa",
           "#EF553B",
           "#00cc96",
           "#ab63fa",
           "#FFA15A",
           "#19d3f3",
           "#FF6692",
           "#B6E880",
           "#FF97FF",
           "#FECB52"
          ],
          "font": {
           "color": "#2a3f5f"
          },
          "geo": {
           "bgcolor": "white",
           "lakecolor": "white",
           "landcolor": "#E5ECF6",
           "showlakes": true,
           "showland": true,
           "subunitcolor": "white"
          },
          "hoverlabel": {
           "align": "left"
          },
          "hovermode": "closest",
          "mapbox": {
           "style": "light"
          },
          "paper_bgcolor": "white",
          "plot_bgcolor": "#E5ECF6",
          "polar": {
           "angularaxis": {
            "gridcolor": "white",
            "linecolor": "white",
            "ticks": ""
           },
           "bgcolor": "#E5ECF6",
           "radialaxis": {
            "gridcolor": "white",
            "linecolor": "white",
            "ticks": ""
           }
          },
          "scene": {
           "xaxis": {
            "backgroundcolor": "#E5ECF6",
            "gridcolor": "white",
            "gridwidth": 2,
            "linecolor": "white",
            "showbackground": true,
            "ticks": "",
            "zerolinecolor": "white"
           },
           "yaxis": {
            "backgroundcolor": "#E5ECF6",
            "gridcolor": "white",
            "gridwidth": 2,
            "linecolor": "white",
            "showbackground": true,
            "ticks": "",
            "zerolinecolor": "white"
           },
           "zaxis": {
            "backgroundcolor": "#E5ECF6",
            "gridcolor": "white",
            "gridwidth": 2,
            "linecolor": "white",
            "showbackground": true,
            "ticks": "",
            "zerolinecolor": "white"
           }
          },
          "shapedefaults": {
           "line": {
            "color": "#2a3f5f"
           }
          },
          "ternary": {
           "aaxis": {
            "gridcolor": "white",
            "linecolor": "white",
            "ticks": ""
           },
           "baxis": {
            "gridcolor": "white",
            "linecolor": "white",
            "ticks": ""
           },
           "bgcolor": "#E5ECF6",
           "caxis": {
            "gridcolor": "white",
            "linecolor": "white",
            "ticks": ""
           }
          },
          "title": {
           "x": 0.05
          },
          "xaxis": {
           "automargin": true,
           "gridcolor": "white",
           "linecolor": "white",
           "ticks": "",
           "title": {
            "standoff": 15
           },
           "zerolinecolor": "white",
           "zerolinewidth": 2
          },
          "yaxis": {
           "automargin": true,
           "gridcolor": "white",
           "linecolor": "white",
           "ticks": "",
           "title": {
            "standoff": 15
           },
           "zerolinecolor": "white",
           "zerolinewidth": 2
          }
         }
        },
        "title": {
         "text": "Line chart showing three different modes"
        }
       }
      },
      "text/html": [
       "<div>\n",
       "        \n",
       "        \n",
       "            <div id=\"50bfef0a-d9ec-4292-8b05-e79673b89abe\" class=\"plotly-graph-div\" style=\"height:525px; width:100%;\"></div>\n",
       "            <script type=\"text/javascript\">\n",
       "                require([\"plotly\"], function(Plotly) {\n",
       "                    window.PLOTLYENV=window.PLOTLYENV || {};\n",
       "                    \n",
       "                if (document.getElementById(\"50bfef0a-d9ec-4292-8b05-e79673b89abe\")) {\n",
       "                    Plotly.newPlot(\n",
       "                        '50bfef0a-d9ec-4292-8b05-e79673b89abe',\n",
       "                        [{\"name\": \"Individual\", \"type\": \"bar\", \"x\": [\"PC 1\", \"PC 2\", \"PC 3\", \"PC 4\", \"PC 5\", \"PC 6\", \"PC 7\", \"PC 8\", \"PC 9\", \"PC 10\", \"PC 11\"], \"y\": [27.21955895392048, 20.739758035054585, 13.132607626659631, 9.976708899001203, 8.436763662683934, 6.109347231751292, 5.4101990347867845, 5.15080384001687, 3.6517647425423156, 0.12878714346497405, 0.04370083011793137]}, {\"mode\": \"lines+markers\", \"name\": \"Cumulative\", \"type\": \"scatter\", \"x\": [\"PC 1\", \"PC 2\", \"PC 3\", \"PC 4\", \"PC 5\", \"PC 6\", \"PC 7\", \"PC 8\", \"PC 9\", \"PC 10\", \"PC 11\"], \"y\": [27.21955895392048, 47.95931698897506, 61.091924615634696, 71.0686335146359, 79.50539717731984, 85.61474440907112, 91.02494344385791, 96.17574728387478, 99.8275120264171, 99.95629916988207, 100.0]}],\n",
       "                        {\"template\": {\"data\": {\"bar\": [{\"error_x\": {\"color\": \"#2a3f5f\"}, \"error_y\": {\"color\": \"#2a3f5f\"}, \"marker\": {\"line\": {\"color\": \"#E5ECF6\", \"width\": 0.5}}, \"type\": \"bar\"}], \"barpolar\": [{\"marker\": {\"line\": {\"color\": \"#E5ECF6\", \"width\": 0.5}}, \"type\": \"barpolar\"}], \"carpet\": [{\"aaxis\": {\"endlinecolor\": \"#2a3f5f\", \"gridcolor\": \"white\", \"linecolor\": \"white\", \"minorgridcolor\": \"white\", \"startlinecolor\": \"#2a3f5f\"}, \"baxis\": {\"endlinecolor\": \"#2a3f5f\", \"gridcolor\": \"white\", \"linecolor\": \"white\", \"minorgridcolor\": \"white\", \"startlinecolor\": \"#2a3f5f\"}, \"type\": \"carpet\"}], \"choropleth\": [{\"colorbar\": {\"outlinewidth\": 0, \"ticks\": \"\"}, \"type\": \"choropleth\"}], \"contour\": [{\"colorbar\": {\"outlinewidth\": 0, \"ticks\": \"\"}, \"colorscale\": [[0.0, \"#0d0887\"], [0.1111111111111111, \"#46039f\"], [0.2222222222222222, \"#7201a8\"], [0.3333333333333333, \"#9c179e\"], [0.4444444444444444, \"#bd3786\"], [0.5555555555555556, \"#d8576b\"], [0.6666666666666666, \"#ed7953\"], [0.7777777777777778, \"#fb9f3a\"], [0.8888888888888888, \"#fdca26\"], [1.0, \"#f0f921\"]], \"type\": \"contour\"}], \"contourcarpet\": [{\"colorbar\": {\"outlinewidth\": 0, \"ticks\": \"\"}, \"type\": \"contourcarpet\"}], \"heatmap\": [{\"colorbar\": {\"outlinewidth\": 0, \"ticks\": \"\"}, \"colorscale\": [[0.0, \"#0d0887\"], [0.1111111111111111, \"#46039f\"], [0.2222222222222222, \"#7201a8\"], [0.3333333333333333, \"#9c179e\"], [0.4444444444444444, \"#bd3786\"], [0.5555555555555556, \"#d8576b\"], [0.6666666666666666, \"#ed7953\"], [0.7777777777777778, \"#fb9f3a\"], [0.8888888888888888, \"#fdca26\"], [1.0, \"#f0f921\"]], \"type\": \"heatmap\"}], \"heatmapgl\": [{\"colorbar\": {\"outlinewidth\": 0, \"ticks\": \"\"}, \"colorscale\": [[0.0, \"#0d0887\"], [0.1111111111111111, \"#46039f\"], [0.2222222222222222, \"#7201a8\"], [0.3333333333333333, \"#9c179e\"], [0.4444444444444444, \"#bd3786\"], [0.5555555555555556, \"#d8576b\"], [0.6666666666666666, \"#ed7953\"], [0.7777777777777778, \"#fb9f3a\"], [0.8888888888888888, \"#fdca26\"], [1.0, \"#f0f921\"]], \"type\": \"heatmapgl\"}], \"histogram\": [{\"marker\": {\"colorbar\": {\"outlinewidth\": 0, \"ticks\": \"\"}}, \"type\": \"histogram\"}], \"histogram2d\": [{\"colorbar\": {\"outlinewidth\": 0, \"ticks\": \"\"}, \"colorscale\": [[0.0, \"#0d0887\"], [0.1111111111111111, \"#46039f\"], [0.2222222222222222, \"#7201a8\"], [0.3333333333333333, \"#9c179e\"], [0.4444444444444444, \"#bd3786\"], [0.5555555555555556, \"#d8576b\"], [0.6666666666666666, \"#ed7953\"], [0.7777777777777778, \"#fb9f3a\"], [0.8888888888888888, \"#fdca26\"], [1.0, \"#f0f921\"]], \"type\": \"histogram2d\"}], \"histogram2dcontour\": [{\"colorbar\": {\"outlinewidth\": 0, \"ticks\": \"\"}, \"colorscale\": [[0.0, \"#0d0887\"], [0.1111111111111111, \"#46039f\"], [0.2222222222222222, \"#7201a8\"], [0.3333333333333333, \"#9c179e\"], [0.4444444444444444, \"#bd3786\"], [0.5555555555555556, \"#d8576b\"], [0.6666666666666666, \"#ed7953\"], [0.7777777777777778, \"#fb9f3a\"], [0.8888888888888888, \"#fdca26\"], [1.0, \"#f0f921\"]], \"type\": \"histogram2dcontour\"}], \"mesh3d\": [{\"colorbar\": {\"outlinewidth\": 0, \"ticks\": \"\"}, \"type\": \"mesh3d\"}], \"parcoords\": [{\"line\": {\"colorbar\": {\"outlinewidth\": 0, \"ticks\": \"\"}}, \"type\": \"parcoords\"}], \"pie\": [{\"automargin\": true, \"type\": \"pie\"}], \"scatter\": [{\"marker\": {\"colorbar\": {\"outlinewidth\": 0, \"ticks\": \"\"}}, \"type\": \"scatter\"}], \"scatter3d\": [{\"line\": {\"colorbar\": {\"outlinewidth\": 0, \"ticks\": \"\"}}, \"marker\": {\"colorbar\": {\"outlinewidth\": 0, \"ticks\": \"\"}}, \"type\": \"scatter3d\"}], \"scattercarpet\": [{\"marker\": {\"colorbar\": {\"outlinewidth\": 0, \"ticks\": \"\"}}, \"type\": \"scattercarpet\"}], \"scattergeo\": [{\"marker\": {\"colorbar\": {\"outlinewidth\": 0, \"ticks\": \"\"}}, \"type\": \"scattergeo\"}], \"scattergl\": [{\"marker\": {\"colorbar\": {\"outlinewidth\": 0, \"ticks\": \"\"}}, \"type\": \"scattergl\"}], \"scattermapbox\": [{\"marker\": {\"colorbar\": {\"outlinewidth\": 0, \"ticks\": \"\"}}, \"type\": \"scattermapbox\"}], \"scatterpolar\": [{\"marker\": {\"colorbar\": {\"outlinewidth\": 0, \"ticks\": \"\"}}, \"type\": \"scatterpolar\"}], \"scatterpolargl\": [{\"marker\": {\"colorbar\": {\"outlinewidth\": 0, \"ticks\": \"\"}}, \"type\": \"scatterpolargl\"}], \"scatterternary\": [{\"marker\": {\"colorbar\": {\"outlinewidth\": 0, \"ticks\": \"\"}}, \"type\": \"scatterternary\"}], \"surface\": [{\"colorbar\": {\"outlinewidth\": 0, \"ticks\": \"\"}, \"colorscale\": [[0.0, \"#0d0887\"], [0.1111111111111111, \"#46039f\"], [0.2222222222222222, \"#7201a8\"], [0.3333333333333333, \"#9c179e\"], [0.4444444444444444, \"#bd3786\"], [0.5555555555555556, \"#d8576b\"], [0.6666666666666666, \"#ed7953\"], [0.7777777777777778, \"#fb9f3a\"], [0.8888888888888888, \"#fdca26\"], [1.0, \"#f0f921\"]], \"type\": \"surface\"}], \"table\": [{\"cells\": {\"fill\": {\"color\": \"#EBF0F8\"}, \"line\": {\"color\": \"white\"}}, \"header\": {\"fill\": {\"color\": \"#C8D4E3\"}, \"line\": {\"color\": \"white\"}}, \"type\": \"table\"}]}, \"layout\": {\"annotationdefaults\": {\"arrowcolor\": \"#2a3f5f\", \"arrowhead\": 0, \"arrowwidth\": 1}, \"coloraxis\": {\"colorbar\": {\"outlinewidth\": 0, \"ticks\": \"\"}}, \"colorscale\": {\"diverging\": [[0, \"#8e0152\"], [0.1, \"#c51b7d\"], [0.2, \"#de77ae\"], [0.3, \"#f1b6da\"], [0.4, \"#fde0ef\"], [0.5, \"#f7f7f7\"], [0.6, \"#e6f5d0\"], [0.7, \"#b8e186\"], [0.8, \"#7fbc41\"], [0.9, \"#4d9221\"], [1, \"#276419\"]], \"sequential\": [[0.0, \"#0d0887\"], [0.1111111111111111, \"#46039f\"], [0.2222222222222222, \"#7201a8\"], [0.3333333333333333, \"#9c179e\"], [0.4444444444444444, \"#bd3786\"], [0.5555555555555556, \"#d8576b\"], [0.6666666666666666, \"#ed7953\"], [0.7777777777777778, \"#fb9f3a\"], [0.8888888888888888, \"#fdca26\"], [1.0, \"#f0f921\"]], \"sequentialminus\": [[0.0, \"#0d0887\"], [0.1111111111111111, \"#46039f\"], [0.2222222222222222, \"#7201a8\"], [0.3333333333333333, \"#9c179e\"], [0.4444444444444444, \"#bd3786\"], [0.5555555555555556, \"#d8576b\"], [0.6666666666666666, \"#ed7953\"], [0.7777777777777778, \"#fb9f3a\"], [0.8888888888888888, \"#fdca26\"], [1.0, \"#f0f921\"]]}, \"colorway\": [\"#636efa\", \"#EF553B\", \"#00cc96\", \"#ab63fa\", \"#FFA15A\", \"#19d3f3\", \"#FF6692\", \"#B6E880\", \"#FF97FF\", \"#FECB52\"], \"font\": {\"color\": \"#2a3f5f\"}, \"geo\": {\"bgcolor\": \"white\", \"lakecolor\": \"white\", \"landcolor\": \"#E5ECF6\", \"showlakes\": true, \"showland\": true, \"subunitcolor\": \"white\"}, \"hoverlabel\": {\"align\": \"left\"}, \"hovermode\": \"closest\", \"mapbox\": {\"style\": \"light\"}, \"paper_bgcolor\": \"white\", \"plot_bgcolor\": \"#E5ECF6\", \"polar\": {\"angularaxis\": {\"gridcolor\": \"white\", \"linecolor\": \"white\", \"ticks\": \"\"}, \"bgcolor\": \"#E5ECF6\", \"radialaxis\": {\"gridcolor\": \"white\", \"linecolor\": \"white\", \"ticks\": \"\"}}, \"scene\": {\"xaxis\": {\"backgroundcolor\": \"#E5ECF6\", \"gridcolor\": \"white\", \"gridwidth\": 2, \"linecolor\": \"white\", \"showbackground\": true, \"ticks\": \"\", \"zerolinecolor\": \"white\"}, \"yaxis\": {\"backgroundcolor\": \"#E5ECF6\", \"gridcolor\": \"white\", \"gridwidth\": 2, \"linecolor\": \"white\", \"showbackground\": true, \"ticks\": \"\", \"zerolinecolor\": \"white\"}, \"zaxis\": {\"backgroundcolor\": \"#E5ECF6\", \"gridcolor\": \"white\", \"gridwidth\": 2, \"linecolor\": \"white\", \"showbackground\": true, \"ticks\": \"\", \"zerolinecolor\": \"white\"}}, \"shapedefaults\": {\"line\": {\"color\": \"#2a3f5f\"}}, \"ternary\": {\"aaxis\": {\"gridcolor\": \"white\", \"linecolor\": \"white\", \"ticks\": \"\"}, \"baxis\": {\"gridcolor\": \"white\", \"linecolor\": \"white\", \"ticks\": \"\"}, \"bgcolor\": \"#E5ECF6\", \"caxis\": {\"gridcolor\": \"white\", \"linecolor\": \"white\", \"ticks\": \"\"}}, \"title\": {\"x\": 0.05}, \"xaxis\": {\"automargin\": true, \"gridcolor\": \"white\", \"linecolor\": \"white\", \"ticks\": \"\", \"title\": {\"standoff\": 15}, \"zerolinecolor\": \"white\", \"zerolinewidth\": 2}, \"yaxis\": {\"automargin\": true, \"gridcolor\": \"white\", \"linecolor\": \"white\", \"ticks\": \"\", \"title\": {\"standoff\": 15}, \"zerolinecolor\": \"white\", \"zerolinewidth\": 2}}}, \"title\": {\"text\": \"Line chart showing three different modes\"}},\n",
       "                        {\"responsive\": true}\n",
       "                    ).then(function(){\n",
       "                            \n",
       "var gd = document.getElementById('50bfef0a-d9ec-4292-8b05-e79673b89abe');\n",
       "var x = new MutationObserver(function (mutations, observer) {{\n",
       "        var display = window.getComputedStyle(gd).display;\n",
       "        if (!display || display === 'none') {{\n",
       "            console.log([gd, 'removed!']);\n",
       "            Plotly.purge(gd);\n",
       "            observer.disconnect();\n",
       "        }}\n",
       "}});\n",
       "\n",
       "// Listen for the removal of the full notebook cells\n",
       "var notebookContainer = gd.closest('#notebook-container');\n",
       "if (notebookContainer) {{\n",
       "    x.observe(notebookContainer, {childList: true});\n",
       "}}\n",
       "\n",
       "// Listen for the clearing of the current output cell\n",
       "var outputEl = gd.closest('.output');\n",
       "if (outputEl) {{\n",
       "    x.observe(outputEl, {childList: true});\n",
       "}}\n",
       "\n",
       "                        })\n",
       "                };\n",
       "                });\n",
       "            </script>\n",
       "        </div>"
      ]
     },
     "metadata": {},
     "output_type": "display_data"
    }
   ],
   "source": [
    "tot = sum(eig_vals)\n",
    "var_exp = [(i / tot)*100 for i in sorted(eig_vals, reverse=True)]\n",
    "cum_var_exp = np.cumsum(var_exp)\n",
    "trace1 = go.Bar(\n",
    "    x=[f'PC {i}' for i in range(1,12)],\n",
    "    y=var_exp,\n",
    "    name='Individual'\n",
    ")\n",
    "\n",
    "trace2 = go.Scatter(\n",
    "    x=['PC %s' %i for i in range(1,12)], \n",
    "    y=cum_var_exp,\n",
    "    mode='lines+markers',\n",
    "    name='Cumulative')\n",
    "\n",
    "data = [trace1,trace2]\n",
    "\n",
    "layout = go.Layout(\n",
    "    title = 'Line chart showing three different modes'\n",
    ")\n",
    "\n",
    "\n",
    "fig= go.Figure(data=data,layout=layout)\n",
    "fig.show()\n",
    "# iplot(fig, filename='selecting-principal-components')"
   ]
  },
  {
   "cell_type": "code",
   "execution_count": 77,
   "metadata": {},
   "outputs": [
    {
     "data": {
      "image/png": "[encoded data removed]",
      "text/plain": [
       "<Figure size 720x720 with 2 Axes>"
      ]
     },
     "metadata": {
      "needs_background": "light"
     },
     "output_type": "display_data"
    }
   ],
   "source": [
    "corrmat = weather_std.corr()\n",
    "# top_corr_features = corrmat.index[abs(corrmat[\"SalePrice\"])>0.5]\n",
    "plt.figure(figsize=(10,10))\n",
    "# sns.heatmap(corrmat[abs(corrmat['windBearing'])>0.09],annot=True,cmap=\"RdYlGn_r\")\n",
    "sns.heatmap(corrmat,annot=True,cmap=\"RdYlGn_r\");"
   ]
  },
  {
   "cell_type": "code",
   "execution_count": 80,
   "metadata": {},
   "outputs": [
    {
     "data": {
      "image/png": "[encoded data removed]",
      "text/plain": [
       "<Figure size 720x720 with 1 Axes>"
      ]
     },
     "metadata": {
      "needs_background": "light"
     },
     "output_type": "display_data"
    }
   ],
   "source": [
    "plt.figure(figsize=(10,10))\n",
    "plt.scatter(weather_std['dewPoint'],weather_std['apparentTemperature']);"
   ]
  },
  {
   "cell_type": "code",
   "execution_count": 146,
   "metadata": {},
   "outputs": [
    {
     "data": {
      "text/plain": [
       "PCA(copy=True, iterated_power='auto', n_components=None, random_state=None,\n",
       "    svd_solver='auto', tol=0.0, whiten=False)"
      ]
     },
     "execution_count": 146,
     "metadata": {},
     "output_type": "execute_result"
    }
   ],
   "source": [
    "pca_weather = PCA()\n",
    "pca_weather.fit(weather_std) #after runing this it save to the class pca_weather that why the below can run"
   ]
  },
  {
   "cell_type": "code",
   "execution_count": 171,
   "metadata": {},
   "outputs": [
    {
     "data": {
      "text/plain": [
       "array([2.99420587, 2.28141482, 1.44461308, 1.09745791, 0.92806086,\n",
       "       0.40170142, 0.01416684, 0.00480718, 0.6720404 , 0.56659871,\n",
       "       0.5951327 ])"
      ]
     },
     "execution_count": 171,
     "metadata": {},
     "output_type": "execute_result"
    }
   ],
   "source": [
    "eig_vals"
   ]
  },
  {
   "cell_type": "code",
   "execution_count": 175,
   "metadata": {},
   "outputs": [
    {
     "data": {
      "text/plain": [
       "array([2.99420587, 2.28141482, 1.44461308, 1.09745791, 0.92806086,\n",
       "       0.6720404 , 0.5951327 , 0.56659871, 0.40170142, 0.01416684,\n",
       "       0.00480718])"
      ]
     },
     "execution_count": 175,
     "metadata": {},
     "output_type": "execute_result"
    }
   ],
   "source": [
    "pca_weather.explained_variance_ #same as eig_vals"
   ]
  },
  {
   "cell_type": "code",
   "execution_count": 91,
   "metadata": {
    "scrolled": false
   },
   "outputs": [
    {
     "data": {
      "text/plain": [
       "array([0.27219559, 0.20739758, 0.13132608, 0.09976709, 0.08436764,\n",
       "       0.06109347, 0.05410199, 0.05150804, 0.03651765, 0.00128787,\n",
       "       0.00043701])"
      ]
     },
     "execution_count": 91,
     "metadata": {},
     "output_type": "execute_result"
    }
   ],
   "source": [
    "pca_weather.explained_variance_ratio_"
   ]
  },
  {
   "cell_type": "code",
   "execution_count": 96,
   "metadata": {},
   "outputs": [
    {
     "data": {
      "image/png": "[encoded data removed]",
      "text/plain": [
       "<Figure size 432x288 with 1 Axes>"
      ]
     },
     "metadata": {
      "needs_background": "light"
     },
     "output_type": "display_data"
    }
   ],
   "source": [
    "weth = np.cumsum(pca_weather.explained_variance_/np.sum(pca_weather.explained_variance_))\n",
    "\n",
    "# Plots the elbow plot for the wine pca\n",
    "plt.plot(range(1,12), weth, marker='o')\n",
    "plt.grid()\n",
    "plt.title(\"Weather\", fontsize=18);"
   ]
  },
  {
   "cell_type": "code",
   "execution_count": 148,
   "metadata": {
    "scrolled": true
   },
   "outputs": [
    {
     "data": {
      "text/plain": [
       "array([-0.79597564, -0.65286979,  2.18826956, ..., -0.66980187,\n",
       "       -1.44226745, -0.49391476])"
      ]
     },
     "execution_count": 148,
     "metadata": {},
     "output_type": "execute_result"
    }
   ],
   "source": [
    "pca_weath = PCA(n_components= 2)\n",
    "z=pca_weath.fit_transform(weather_std)\n",
    "z[:,1]"
   ]
  },
  {
   "cell_type": "code",
   "execution_count": null,
   "metadata": {},
   "outputs": [],
   "source": []
  },
  {
   "cell_type": "code",
   "execution_count": 170,
   "metadata": {
    "scrolled": true
   },
   "outputs": [
    {
     "name": "stdout",
     "output_type": "stream",
     "text": [
      "[[ 0.09030329  0.11277847 -0.31262443  0.05788122 -0.05611     0.00351347\n",
      "  -0.05823076  0.01994409  0.52189713  0.54679899  0.54747333]\n",
      " [ 0.3530928   0.46850182 -0.02917408  0.43688673 -0.0863741   0.04022228\n",
      "  -0.44998172  0.43142671  0.06514379 -0.17844985 -0.17415926]] \n",
      "\n",
      "[0.27219559 0.20739758]\n"
     ]
    }
   ],
   "source": [
    "print(pca_weath.components_,'\\n')\n",
    "print(pca_weath.explained_variance_ratio_)\n",
    "\n",
    "numerical=weather.columns.to_list()"
   ]
  },
  {
   "cell_type": "code",
   "execution_count": 168,
   "metadata": {},
   "outputs": [
    {
     "data": {
      "text/plain": [
       "array([1.0000000e+00, 1.2246468e-16, 6.1232340e-17, 1.0000000e+00])"
      ]
     },
     "execution_count": 168,
     "metadata": {},
     "output_type": "execute_result"
    }
   ],
   "source": [
    "color=cm.rainbow(np.linspace(0, 1, len(pca_weath.components_[0])))\n",
    "color[i]"
   ]
  },
  {
   "cell_type": "code",
   "execution_count": 165,
   "metadata": {},
   "outputs": [
    {
     "data": {
      "image/png": "[encoded data removed]",
      "text/plain": [
       "<Figure size 864x576 with 1 Axes>"
      ]
     },
     "metadata": {
      "needs_background": "light"
     },
     "output_type": "display_data"
    }
   ],
   "source": [
    "# plt.figure(figsize=(10,10))\n",
    "# plt.scatter(pca_weath.components_[0],pca_weath.components_[1]);\n",
    "\n",
    "ig, ax = plt.subplots(figsize=(12,8))\n",
    "colors = cm.rainbow(np.linspace(0, 1, len(pca_weath.components_[0])))\n",
    "for i in range(len(pca_weath.components_[0])):\n",
    "    ax.scatter(pca_weath.components_[0][i],pca_weath.components_[1][i], color = colors[i], label = numerical[i], s = 50)\n",
    "for i, txt in enumerate(numerical):\n",
    "    ax.annotate(txt, (pca_weath.components_[0][i], pca_weath.components_[1][i]))"
   ]
  },
  {
   "cell_type": "code",
   "execution_count": 139,
   "metadata": {},
   "outputs": [
    {
     "data": {
      "text/plain": [
       "{1, 2, 3}"
      ]
     },
     "execution_count": 139,
     "metadata": {},
     "output_type": "execute_result"
    }
   ],
   "source": [
    "# from sklearn.preprocessing import LabelEncoder\n",
    "# X = df.drop(['class label'], axis=1).values\n",
    "y=ufo['ast_is_dangerous'].values\n",
    "\n",
    "# creating dummy variables\n",
    "enc = LabelEncoder()\n",
    "label_encoder = enc.fit(y)\n",
    "\n",
    "y = label_encoder.transform(y)+1\n",
    "set(y)\n",
    "# label_dict = {1: 'True', 2: 'False', 3:'Nan'}"
   ]
  },
  {
   "cell_type": "code",
   "execution_count": null,
   "metadata": {},
   "outputs": [],
   "source": [
    "data = [go.Scatter(\n",
    "    x = random_x,\n",
    "    y = random_y,\n",
    "    mode = 'markers',\n",
    ")]\n",
    "# create the layout \n",
    "layout = go.Layout(\n",
    "    title = 'Random Data Scatterplot', # Graph title\n",
    "    xaxis = dict(title = 'Some random x-values'), # x-axis label\n",
    "    yaxis = dict(title = 'Some random y-values'), # y-axis label\n",
    "    hovermode ='closest' # handles multiple points landing on the same vertical\n",
    ")\n",
    "\n",
    "# create the figure\n",
    "fig = go.Figure(data=data, layout=layout)\n",
    "fig.show()"
   ]
  },
  {
   "cell_type": "code",
   "execution_count": null,
   "metadata": {},
   "outputs": [],
   "source": []
  }
 ],
 "metadata": {
  "kernelspec": {
   "display_name": "Python 3",
   "language": "python",
   "name": "python3"
  },
  "language_info": {
   "codemirror_mode": {
    "name": "ipython",
    "version": 3
   },
   "file_extension": ".py",
   "mimetype": "text/x-python",
   "name": "python",
   "nbconvert_exporter": "python",
   "pygments_lexer": "ipython3",
   "version": "3.7.6"
  }
 },
 "nbformat": 4,
 "nbformat_minor": 4
}
